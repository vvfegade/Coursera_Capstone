{
  "nbformat": 4,
  "nbformat_minor": 0,
  "metadata": {
    "colab": {
      "name": "Battle of Neighbourhood Toronto.ipynb",
      "provenance": [],
      "toc_visible": true
    },
    "kernelspec": {
      "name": "python3",
      "display_name": "Python 3"
    }
  },
  "cells": [
    {
      "cell_type": "markdown",
      "metadata": {
        "id": "gIAiNCunAysH",
        "colab_type": "text"
      },
      "source": [
        "Import  all required libraries "
      ]
    },
    {
      "cell_type": "code",
      "metadata": {
        "id": "9RcNaPSTtcnk",
        "colab_type": "code",
        "colab": {}
      },
      "source": [
        "import random # library for random number generation\n",
        "import numpy as np # library for vectorized computation\n",
        "import pandas as pd # library to process data as dataframes\n",
        "pd.set_option('display.max_columns', None)\n",
        "pd.set_option('display.max_rows', None)"
      ],
      "execution_count": 0,
      "outputs": []
    },
    {
      "cell_type": "code",
      "metadata": {
        "id": "Y4nxN4a2uN9j",
        "colab_type": "code",
        "colab": {}
      },
      "source": [
        "import requests # library to handle requests\n",
        "import json # library to handle JSON files"
      ],
      "execution_count": 0,
      "outputs": []
    },
    {
      "cell_type": "code",
      "metadata": {
        "id": "FimbBcM7uTeR",
        "colab_type": "code",
        "colab": {}
      },
      "source": [
        "import bs4 as bs\n",
        "import urllib.request"
      ],
      "execution_count": 0,
      "outputs": []
    },
    {
      "cell_type": "code",
      "metadata": {
        "id": "KMtT9Ys8uWKw",
        "colab_type": "code",
        "colab": {
          "base_uri": "https://localhost:8080/",
          "height": 71
        },
        "outputId": "56e7c659-b498-46c3-a682-96f958e7546d"
      },
      "source": [
        "from pandas.io.json import json_normalize # tranform JSON file into a pandas dataframe\n",
        "from bs4 import BeautifulSoup\n",
        "from sklearn.cluster import KMeans \n",
        "from sklearn.datasets.samples_generator import make_blobs"
      ],
      "execution_count": 4,
      "outputs": [
        {
          "output_type": "stream",
          "text": [
            "/usr/local/lib/python3.6/dist-packages/sklearn/utils/deprecation.py:144: FutureWarning: The sklearn.datasets.samples_generator module is  deprecated in version 0.22 and will be removed in version 0.24. The corresponding classes / functions should instead be imported from sklearn.datasets. Anything that cannot be imported from sklearn.datasets is now part of the private API.\n",
            "  warnings.warn(message, FutureWarning)\n"
          ],
          "name": "stderr"
        }
      ]
    },
    {
      "cell_type": "code",
      "metadata": {
        "id": "xAIuCAlDuanw",
        "colab_type": "code",
        "colab": {
          "base_uri": "https://localhost:8080/",
          "height": 309
        },
        "outputId": "76c5264a-b524-49e9-bf62-9bf4b56f1fea"
      },
      "source": [
        "pip install geocoder"
      ],
      "execution_count": 6,
      "outputs": [
        {
          "output_type": "stream",
          "text": [
            "Collecting geocoder\n",
            "\u001b[?25l  Downloading https://files.pythonhosted.org/packages/4f/6b/13166c909ad2f2d76b929a4227c952630ebaf0d729f6317eb09cbceccbab/geocoder-1.38.1-py2.py3-none-any.whl (98kB)\n",
            "\r\u001b[K     |███▎                            | 10kB 19.3MB/s eta 0:00:01\r\u001b[K     |██████▋                         | 20kB 1.8MB/s eta 0:00:01\r\u001b[K     |██████████                      | 30kB 2.6MB/s eta 0:00:01\r\u001b[K     |█████████████▎                  | 40kB 1.7MB/s eta 0:00:01\r\u001b[K     |████████████████▋               | 51kB 2.1MB/s eta 0:00:01\r\u001b[K     |████████████████████            | 61kB 2.5MB/s eta 0:00:01\r\u001b[K     |███████████████████████▎        | 71kB 2.9MB/s eta 0:00:01\r\u001b[K     |██████████████████████████▋     | 81kB 3.3MB/s eta 0:00:01\r\u001b[K     |██████████████████████████████  | 92kB 3.7MB/s eta 0:00:01\r\u001b[K     |████████████████████████████████| 102kB 3.3MB/s \n",
            "\u001b[?25hRequirement already satisfied: requests in /usr/local/lib/python3.6/dist-packages (from geocoder) (2.21.0)\n",
            "Collecting ratelim\n",
            "  Downloading https://files.pythonhosted.org/packages/f2/98/7e6d147fd16a10a5f821db6e25f192265d6ecca3d82957a4fdd592cad49c/ratelim-0.1.6-py2.py3-none-any.whl\n",
            "Requirement already satisfied: click in /usr/local/lib/python3.6/dist-packages (from geocoder) (7.0)\n",
            "Requirement already satisfied: six in /usr/local/lib/python3.6/dist-packages (from geocoder) (1.12.0)\n",
            "Requirement already satisfied: future in /usr/local/lib/python3.6/dist-packages (from geocoder) (0.16.0)\n",
            "Requirement already satisfied: urllib3<1.25,>=1.21.1 in /usr/local/lib/python3.6/dist-packages (from requests->geocoder) (1.24.3)\n",
            "Requirement already satisfied: idna<2.9,>=2.5 in /usr/local/lib/python3.6/dist-packages (from requests->geocoder) (2.8)\n",
            "Requirement already satisfied: certifi>=2017.4.17 in /usr/local/lib/python3.6/dist-packages (from requests->geocoder) (2019.11.28)\n",
            "Requirement already satisfied: chardet<3.1.0,>=3.0.2 in /usr/local/lib/python3.6/dist-packages (from requests->geocoder) (3.0.4)\n",
            "Requirement already satisfied: decorator in /usr/local/lib/python3.6/dist-packages (from ratelim->geocoder) (4.4.1)\n",
            "Installing collected packages: ratelim, geocoder\n",
            "Successfully installed geocoder-1.38.1 ratelim-0.1.6\n"
          ],
          "name": "stdout"
        }
      ]
    },
    {
      "cell_type": "code",
      "metadata": {
        "id": "btt59T74uh3p",
        "colab_type": "code",
        "colab": {}
      },
      "source": [
        "import geocoder\n",
        "from geopy.geocoders import Nominatim # convert an address into latitude and longitude values\n",
        "from sklearn.cluster import KMeans"
      ],
      "execution_count": 0,
      "outputs": []
    },
    {
      "cell_type": "code",
      "metadata": {
        "id": "xrr9zkgFurMx",
        "colab_type": "code",
        "colab": {}
      },
      "source": [
        "import folium # map rendering library"
      ],
      "execution_count": 0,
      "outputs": []
    },
    {
      "cell_type": "code",
      "metadata": {
        "id": "A26vbYagut05",
        "colab_type": "code",
        "colab": {}
      },
      "source": [
        "import matplotlib as mpl\n",
        "import matplotlib.pyplot as plt\n",
        "mpl.style.use('ggplot') # optional: for ggplot-like style\n",
        "\n",
        "# Matplotlib and associated plotting modules\n",
        "import matplotlib.cm as cm\n",
        "import matplotlib.colors as colors"
      ],
      "execution_count": 0,
      "outputs": []
    },
    {
      "cell_type": "code",
      "metadata": {
        "id": "wOGPo8bquwLD",
        "colab_type": "code",
        "colab": {
          "base_uri": "https://localhost:8080/",
          "height": 51
        },
        "outputId": "83e6fabb-5b41-4a11-96cb-655ccd4f73e7"
      },
      "source": [
        "print ('Matplotlib version: ', mpl.__version__) # >= 2.0.0\n",
        "print('Libraries imported.')"
      ],
      "execution_count": 10,
      "outputs": [
        {
          "output_type": "stream",
          "text": [
            "Matplotlib version:  3.1.3\n",
            "Libraries imported.\n"
          ],
          "name": "stdout"
        }
      ]
    },
    {
      "cell_type": "code",
      "metadata": {
        "id": "EeOxqQj1uxdw",
        "colab_type": "code",
        "colab": {}
      },
      "source": [
        "# Use the Notebook to build the code to scrape the following Wikipedia page, https://en.wikipedia.org\n",
        "url='https://en.wikipedia.org/wiki/List_of_postal_codes_of_Canada:_M'"
      ],
      "execution_count": 0,
      "outputs": []
    },
    {
      "cell_type": "code",
      "metadata": {
        "id": "JYD9jv6Ku1YS",
        "colab_type": "code",
        "colab": {}
      },
      "source": [
        "# The dataframe will consist of three columns: PostalCode, Borough, and Neighborhood\n",
        "source = urllib.request.urlopen(url).read()\n",
        "soup = bs.BeautifulSoup(source,'html.parser')"
      ],
      "execution_count": 0,
      "outputs": []
    },
    {
      "cell_type": "code",
      "metadata": {
        "id": "pfhzrdZHu3g4",
        "colab_type": "code",
        "colab": {}
      },
      "source": [
        "table = soup.find('table')\n",
        "table_rows = table.find_all('tr')\n",
        "\n",
        "l = []\n",
        "for tr in table_rows:\n",
        "    td = tr.find_all('td')\n",
        "    row = [tr.text.strip() for tr in td if tr.text.strip()]\n",
        "    if row:\n",
        "        l.append(row)"
      ],
      "execution_count": 0,
      "outputs": []
    },
    {
      "cell_type": "code",
      "metadata": {
        "id": "rlIynZ1xu5ZE",
        "colab_type": "code",
        "colab": {}
      },
      "source": [
        "df = pd.DataFrame(l, columns=[\"PostalCode\", \"Borough\", \"Neighbourhood\"])\n",
        "# If a cell has a borough but a Not assigned neighborhood, then the neighborhood will be the same as the borough.\n",
        "df.loc[df['Neighbourhood']=='Not assigned', ['Neighbourhood']] = 'Queen\\'s Park'\n"
      ],
      "execution_count": 0,
      "outputs": []
    },
    {
      "cell_type": "code",
      "metadata": {
        "id": "kckG4zjNu85R",
        "colab_type": "code",
        "colab": {
          "base_uri": "https://localhost:8080/",
          "height": 204
        },
        "outputId": "5f4cd608-e9c3-4681-9eb1-4f9f2a4f2ffc"
      },
      "source": [
        "link = \"http://cocl.us/Geospatial_data\"\n",
        "df1=pd.read_csv(link)\n",
        "df1.head()"
      ],
      "execution_count": 15,
      "outputs": [
        {
          "output_type": "execute_result",
          "data": {
            "text/html": [
              "<div>\n",
              "<style scoped>\n",
              "    .dataframe tbody tr th:only-of-type {\n",
              "        vertical-align: middle;\n",
              "    }\n",
              "\n",
              "    .dataframe tbody tr th {\n",
              "        vertical-align: top;\n",
              "    }\n",
              "\n",
              "    .dataframe thead th {\n",
              "        text-align: right;\n",
              "    }\n",
              "</style>\n",
              "<table border=\"1\" class=\"dataframe\">\n",
              "  <thead>\n",
              "    <tr style=\"text-align: right;\">\n",
              "      <th></th>\n",
              "      <th>Postal Code</th>\n",
              "      <th>Latitude</th>\n",
              "      <th>Longitude</th>\n",
              "    </tr>\n",
              "  </thead>\n",
              "  <tbody>\n",
              "    <tr>\n",
              "      <th>0</th>\n",
              "      <td>M1B</td>\n",
              "      <td>43.806686</td>\n",
              "      <td>-79.194353</td>\n",
              "    </tr>\n",
              "    <tr>\n",
              "      <th>1</th>\n",
              "      <td>M1C</td>\n",
              "      <td>43.784535</td>\n",
              "      <td>-79.160497</td>\n",
              "    </tr>\n",
              "    <tr>\n",
              "      <th>2</th>\n",
              "      <td>M1E</td>\n",
              "      <td>43.763573</td>\n",
              "      <td>-79.188711</td>\n",
              "    </tr>\n",
              "    <tr>\n",
              "      <th>3</th>\n",
              "      <td>M1G</td>\n",
              "      <td>43.770992</td>\n",
              "      <td>-79.216917</td>\n",
              "    </tr>\n",
              "    <tr>\n",
              "      <th>4</th>\n",
              "      <td>M1H</td>\n",
              "      <td>43.773136</td>\n",
              "      <td>-79.239476</td>\n",
              "    </tr>\n",
              "  </tbody>\n",
              "</table>\n",
              "</div>"
            ],
            "text/plain": [
              "  Postal Code   Latitude  Longitude\n",
              "0         M1B  43.806686 -79.194353\n",
              "1         M1C  43.784535 -79.160497\n",
              "2         M1E  43.763573 -79.188711\n",
              "3         M1G  43.770992 -79.216917\n",
              "4         M1H  43.773136 -79.239476"
            ]
          },
          "metadata": {
            "tags": []
          },
          "execution_count": 15
        }
      ]
    },
    {
      "cell_type": "code",
      "metadata": {
        "id": "T0kf9VylzlCx",
        "colab_type": "code",
        "colab": {}
      },
      "source": [
        ""
      ],
      "execution_count": 0,
      "outputs": []
    },
    {
      "cell_type": "code",
      "metadata": {
        "id": "jf9LFacAzmai",
        "colab_type": "code",
        "colab": {}
      },
      "source": [
        ""
      ],
      "execution_count": 0,
      "outputs": []
    },
    {
      "cell_type": "code",
      "metadata": {
        "id": "jq99zUA0vC8U",
        "colab_type": "code",
        "colab": {
          "base_uri": "https://localhost:8080/",
          "height": 204
        },
        "outputId": "8c20ca45-fbf5-4b33-de98-46234076e644"
      },
      "source": [
        "df1.rename(columns={'Postal Code': 'PostalCode'}, inplace=True)\n",
        "df1.head()"
      ],
      "execution_count": 18,
      "outputs": [
        {
          "output_type": "execute_result",
          "data": {
            "text/html": [
              "<div>\n",
              "<style scoped>\n",
              "    .dataframe tbody tr th:only-of-type {\n",
              "        vertical-align: middle;\n",
              "    }\n",
              "\n",
              "    .dataframe tbody tr th {\n",
              "        vertical-align: top;\n",
              "    }\n",
              "\n",
              "    .dataframe thead th {\n",
              "        text-align: right;\n",
              "    }\n",
              "</style>\n",
              "<table border=\"1\" class=\"dataframe\">\n",
              "  <thead>\n",
              "    <tr style=\"text-align: right;\">\n",
              "      <th></th>\n",
              "      <th>PostalCode</th>\n",
              "      <th>Latitude</th>\n",
              "      <th>Longitude</th>\n",
              "    </tr>\n",
              "  </thead>\n",
              "  <tbody>\n",
              "    <tr>\n",
              "      <th>0</th>\n",
              "      <td>M1B</td>\n",
              "      <td>43.806686</td>\n",
              "      <td>-79.194353</td>\n",
              "    </tr>\n",
              "    <tr>\n",
              "      <th>1</th>\n",
              "      <td>M1C</td>\n",
              "      <td>43.784535</td>\n",
              "      <td>-79.160497</td>\n",
              "    </tr>\n",
              "    <tr>\n",
              "      <th>2</th>\n",
              "      <td>M1E</td>\n",
              "      <td>43.763573</td>\n",
              "      <td>-79.188711</td>\n",
              "    </tr>\n",
              "    <tr>\n",
              "      <th>3</th>\n",
              "      <td>M1G</td>\n",
              "      <td>43.770992</td>\n",
              "      <td>-79.216917</td>\n",
              "    </tr>\n",
              "    <tr>\n",
              "      <th>4</th>\n",
              "      <td>M1H</td>\n",
              "      <td>43.773136</td>\n",
              "      <td>-79.239476</td>\n",
              "    </tr>\n",
              "  </tbody>\n",
              "</table>\n",
              "</div>"
            ],
            "text/plain": [
              "  PostalCode   Latitude  Longitude\n",
              "0        M1B  43.806686 -79.194353\n",
              "1        M1C  43.784535 -79.160497\n",
              "2        M1E  43.763573 -79.188711\n",
              "3        M1G  43.770992 -79.216917\n",
              "4        M1H  43.773136 -79.239476"
            ]
          },
          "metadata": {
            "tags": []
          },
          "execution_count": 18
        }
      ]
    },
    {
      "cell_type": "code",
      "metadata": {
        "id": "2HS0lXx0vQcB",
        "colab_type": "code",
        "colab": {}
      },
      "source": [
        "df2=pd.merge(df,df1,on='PostalCode')"
      ],
      "execution_count": 0,
      "outputs": []
    },
    {
      "cell_type": "code",
      "metadata": {
        "id": "eS6ldmY0vTVu",
        "colab_type": "code",
        "colab": {
          "base_uri": "https://localhost:8080/",
          "height": 604
        },
        "outputId": "508c95bb-6471-44dc-a51b-f23789034e01"
      },
      "source": [
        "plt.figure(figsize=(9,5), dpi = 100)\n",
        "# title\n",
        "plt.title('Number of Neighborhood for each Borough in Toronto city')\n",
        "#On x-axis\n",
        "plt.xlabel('Borough', fontsize = 15)\n",
        "#On y-axis\n",
        "plt.ylabel('No.of Neighborhood', fontsize=15)\n",
        "#giving a bar plot\n",
        "df2.groupby('Borough')['Neighbourhood'].count().plot(kind='bar')\n",
        "#legend\n",
        "plt.legend()\n",
        "#displays the plot\n",
        "plt.show()"
      ],
      "execution_count": 20,
      "outputs": [
        {
          "output_type": "display_data",
          "data": {
            "image/png": "[encoded data removed]",
            "text/plain": [
              "<Figure size 900x500 with 1 Axes>"
            ]
          },
          "metadata": {
            "tags": []
          }
        }
      ]
    },
    {
      "cell_type": "markdown",
      "metadata": {
        "id": "6iEaUm2rB0I7",
        "colab_type": "text"
      },
      "source": [
        "Now we define a function to get the geocodes i.e latitude and longitude of a given location using geopy."
      ]
    },
    {
      "cell_type": "code",
      "metadata": {
        "id": "0I-RYen4vWpK",
        "colab_type": "code",
        "colab": {}
      },
      "source": [
        "def geo_location(address):\n",
        "    # get geo location of address\n",
        "    geolocator = Nominatim(user_agent=\"ny_explorer\")\n",
        "    location = geolocator.geocode(address)\n",
        "    latitude = location.latitude\n",
        "    longitude = location.longitude\n",
        "    return latitude,longitude"
      ],
      "execution_count": 0,
      "outputs": []
    },
    {
      "cell_type": "markdown",
      "metadata": {
        "id": "bi2bpS-iBoq-",
        "colab_type": "text"
      },
      "source": [
        "We define a function to intract with FourSquare API and get top 100 venues within a radius of 1000 metres for a given latitude and longitude. Below function will return us the venue id , venue name and category."
      ]
    },
    {
      "cell_type": "code",
      "metadata": {
        "id": "t2NcLIyYvbWr",
        "colab_type": "code",
        "colab": {}
      },
      "source": [
        "def get_venues(lat,lng):\n",
        "    \n",
        "    #set variables\n",
        "    radius=1000\n",
        "    LIMIT=100\n",
        "    CLIENT_ID = '0M4UMUBEZKXLVLQMO05QINUFIQODTVSVVPRZK041ITFVYXEL' # your Foursquare ID\n",
        "    CLIENT_SECRET = 'DS0P12N2GLDF0RTSEFO1V0O41TBNECMVBKSOMD4BDYW3SXCO' # your Foursquare Secret\n",
        "    VERSION = '20180605' # Foursquare API version\n",
        "    \n",
        "    #url to fetch data from foursquare api\n",
        "    url = 'https://api.foursquare.com/v2/venues/explore?&client_id={}&client_secret={}&v={}&ll={},{}&radius={}&limit={}'.format(\n",
        "            CLIENT_ID, \n",
        "            CLIENT_SECRET, \n",
        "            VERSION, \n",
        "            lat, \n",
        "            lng, \n",
        "            radius, \n",
        "            LIMIT)\n",
        "    \n",
        "    # get all the data\n",
        "    results = requests.get(url).json()\n",
        "    venue_data=results[\"response\"]['groups'][0]['items']\n",
        "    venue_details=[]\n",
        "    for row in venue_data:\n",
        "        try:\n",
        "            venue_id=row['venue']['id']\n",
        "            venue_name=row['venue']['name']\n",
        "            venue_category=row['venue']['categories'][0]['name']\n",
        "            venue_details.append([venue_id,venue_name,venue_category])\n",
        "        except KeyError:\n",
        "            pass\n",
        "        \n",
        "    column_names=['ID','Name','Category']\n",
        "    df = pd.DataFrame(venue_details,columns=column_names)\n",
        "    return df"
      ],
      "execution_count": 0,
      "outputs": []
    },
    {
      "cell_type": "markdown",
      "metadata": {
        "id": "q5ihwHtFB6uN",
        "colab_type": "text"
      },
      "source": [
        "Now we will define a function to get venue details like like count , rating , tip counts for a given venue id. This will be used for ranking"
      ]
    },
    {
      "cell_type": "code",
      "metadata": {
        "id": "AQbPQhN8vc0L",
        "colab_type": "code",
        "colab": {}
      },
      "source": [
        "def get_venue_details(venue_id):\n",
        "        \n",
        "    CLIENT_ID = '0M4UMUBEZKXLVLQMO05QINUFIQODTVSVVPRZK041ITFVYXEL' # your Foursquare ID\n",
        "    CLIENT_SECRET = 'DS0P12N2GLDF0RTSEFO1V0O41TBNECMVBKSOMD4BDYW3SXCO' # your Foursquare Secret\n",
        "    VERSION = '20180605' # Foursquare API version\n",
        "    \n",
        "    #url to fetch data from foursquare api\n",
        "    url = 'https://api.foursquare.com/v2/venues/{}?&client_id={}&client_secret={}&v={}'.format(\n",
        "            venue_id,\n",
        "            CLIENT_ID, \n",
        "            CLIENT_SECRET, \n",
        "            VERSION)\n",
        "    \n",
        "    # get all the data\n",
        "    results = requests.get(url).json()\n",
        "    venue_data=results['response']['venue']\n",
        "    venue_details=[]\n",
        "    try:\n",
        "        venue_id=venue_data['id']\n",
        "        venue_name=venue_data['name']\n",
        "        venue_likes=venue_data['likes']['count']\n",
        "        venue_rating=venue_data['rating']\n",
        "        venue_tips=venue_data['tips']['count']\n",
        "        venue_details.append([venue_id,venue_name,venue_likes,venue_rating,venue_tips])\n",
        "    except KeyError:\n",
        "        pass\n",
        "        \n",
        "    column_names=['ID','Name','Likes','Rating','Tips']\n",
        "    df = pd.DataFrame(venue_details,columns=column_names)\n",
        "    return df"
      ],
      "execution_count": 0,
      "outputs": []
    },
    {
      "cell_type": "code",
      "metadata": {
        "id": "KDqIy1jIvhAD",
        "colab_type": "code",
        "colab": {}
      },
      "source": [
        "import os"
      ],
      "execution_count": 0,
      "outputs": []
    },
    {
      "cell_type": "code",
      "metadata": {
        "id": "ccNSdDvtvkWy",
        "colab_type": "code",
        "colab": {
          "base_uri": "https://localhost:8080/",
          "height": 1000
        },
        "outputId": "80cfd8d3-672d-471c-d5a1-5f4a8e20f8c4"
      },
      "source": [
        "# prepare neighborhood list that contains indian resturants\n",
        "column_names=['PostalCode','Borough', 'Neighbourhood', 'ID','Name']\n",
        "indian_rest_ny=pd.DataFrame(columns=column_names)\n",
        "count=1\n",
        "for row in df2.values.tolist():\n",
        "    PostalCode,Borough, Neighbourhood, Latitude, Longitude=row\n",
        "    venues = get_venues(Latitude,Longitude)\n",
        "    indian_resturants=venues[venues['Category']=='Indian Restaurant']   \n",
        "    print('(',count,'/',len(df2),')','Indian Resturants in '+Neighbourhood+', '+Borough+':'+str(len(indian_resturants)))\n",
        "    for resturant_detail in indian_resturants.values.tolist():\n",
        "        id, name , category=resturant_detail\n",
        "        indian_rest_ny = indian_rest_ny.append({'PostalCode':PostalCode,\n",
        "                                                'Borough': Borough,\n",
        "                                                'Neighbourhood': Neighbourhood, \n",
        "                                                'ID': id,\n",
        "                                                'Name' : name\n",
        "                                               }, ignore_index=True)\n",
        "    count+=1"
      ],
      "execution_count": 26,
      "outputs": [
        {
          "output_type": "stream",
          "text": [
            "( 1 / 210 ) Indian Resturants in Parkwoods, North York:0\n",
            "( 2 / 210 ) Indian Resturants in Victoria Village, North York:0\n",
            "( 3 / 210 ) Indian Resturants in Harbourfront, Downtown Toronto:2\n",
            "( 4 / 210 ) Indian Resturants in Lawrence Heights, North York:0\n",
            "( 5 / 210 ) Indian Resturants in Lawrence Manor, North York:0\n",
            "( 6 / 210 ) Indian Resturants in Queen's Park, Downtown Toronto:1\n",
            "( 7 / 210 ) Indian Resturants in Queen's Park, Queen's Park:0\n",
            "( 8 / 210 ) Indian Resturants in Rouge, Scarborough:0\n",
            "( 9 / 210 ) Indian Resturants in Malvern, Scarborough:0\n",
            "( 10 / 210 ) Indian Resturants in Don Mills North, North York:0\n",
            "( 11 / 210 ) Indian Resturants in Woodbine Gardens, East York:0\n",
            "( 12 / 210 ) Indian Resturants in Parkview Hill, East York:0\n",
            "( 13 / 210 ) Indian Resturants in Ryerson, Downtown Toronto:0\n",
            "( 14 / 210 ) Indian Resturants in Garden District, Downtown Toronto:0\n",
            "( 15 / 210 ) Indian Resturants in Glencairn, North York:0\n",
            "( 16 / 210 ) Indian Resturants in Cloverdale, Etobicoke:0\n",
            "( 17 / 210 ) Indian Resturants in Islington, Etobicoke:0\n",
            "( 18 / 210 ) Indian Resturants in Martin Grove, Etobicoke:0\n",
            "( 19 / 210 ) Indian Resturants in Princess Gardens, Etobicoke:0\n",
            "( 20 / 210 ) Indian Resturants in West Deane Park, Etobicoke:0\n",
            "( 21 / 210 ) Indian Resturants in Highland Creek, Scarborough:0\n",
            "( 22 / 210 ) Indian Resturants in Rouge Hill, Scarborough:0\n",
            "( 23 / 210 ) Indian Resturants in Port Union, Scarborough:0\n",
            "( 24 / 210 ) Indian Resturants in Flemingdon Park, North York:0\n",
            "( 25 / 210 ) Indian Resturants in Don Mills South, North York:0\n",
            "( 26 / 210 ) Indian Resturants in Woodbine Heights, East York:0\n",
            "( 27 / 210 ) Indian Resturants in St. James Town, Downtown Toronto:0\n",
            "( 28 / 210 ) Indian Resturants in Humewood-Cedarvale, York:0\n",
            "( 29 / 210 ) Indian Resturants in Bloordale Gardens, Etobicoke:0\n",
            "( 30 / 210 ) Indian Resturants in Eringate, Etobicoke:0\n",
            "( 31 / 210 ) Indian Resturants in Markland Wood, Etobicoke:0\n",
            "( 32 / 210 ) Indian Resturants in Old Burnhamthorpe, Etobicoke:0\n",
            "( 33 / 210 ) Indian Resturants in Guildwood, Scarborough:0\n",
            "( 34 / 210 ) Indian Resturants in Morningside, Scarborough:0\n",
            "( 35 / 210 ) Indian Resturants in West Hill, Scarborough:0\n",
            "( 36 / 210 ) Indian Resturants in The Beaches, East Toronto:1\n",
            "( 37 / 210 ) Indian Resturants in Berczy Park, Downtown Toronto:0\n",
            "( 38 / 210 ) Indian Resturants in Caledonia-Fairbanks, York:0\n",
            "( 39 / 210 ) Indian Resturants in Woburn, Scarborough:1\n",
            "( 40 / 210 ) Indian Resturants in Leaside, East York:1\n",
            "( 41 / 210 ) Indian Resturants in Central Bay Street, Downtown Toronto:0\n",
            "( 42 / 210 ) Indian Resturants in Christie, Downtown Toronto:2\n",
            "( 43 / 210 ) Indian Resturants in Cedarbrae, Scarborough:2\n",
            "( 44 / 210 ) Indian Resturants in Hillcrest Village, North York:0\n",
            "( 45 / 210 ) Indian Resturants in Bathurst Manor, North York:0\n",
            "( 46 / 210 ) Indian Resturants in Downsview North, North York:0\n",
            "( 47 / 210 ) Indian Resturants in Wilson Heights, North York:0\n",
            "( 48 / 210 ) Indian Resturants in Thorncliffe Park, East York:3\n",
            "( 49 / 210 ) Indian Resturants in Adelaide, Downtown Toronto:0\n",
            "( 50 / 210 ) Indian Resturants in King, Downtown Toronto:0\n",
            "( 51 / 210 ) Indian Resturants in Richmond, Downtown Toronto:0\n",
            "( 52 / 210 ) Indian Resturants in Dovercourt Village, West Toronto:0\n",
            "( 53 / 210 ) Indian Resturants in Dufferin, West Toronto:0\n",
            "( 54 / 210 ) Indian Resturants in Scarborough Village, Scarborough:0\n",
            "( 55 / 210 ) Indian Resturants in Fairview, North York:0\n",
            "( 56 / 210 ) Indian Resturants in Henry Farm, North York:0\n",
            "( 57 / 210 ) Indian Resturants in Oriole, North York:0\n",
            "( 58 / 210 ) Indian Resturants in Northwood Park, North York:0\n",
            "( 59 / 210 ) Indian Resturants in York University, North York:0\n",
            "( 60 / 210 ) Indian Resturants in East Toronto, East York:1\n",
            "( 61 / 210 ) Indian Resturants in Harbourfront East, Downtown Toronto:0\n",
            "( 62 / 210 ) Indian Resturants in Toronto Islands, Downtown Toronto:0\n",
            "( 63 / 210 ) Indian Resturants in Union Station, Downtown Toronto:0\n",
            "( 64 / 210 ) Indian Resturants in Little Portugal, West Toronto:0\n",
            "( 65 / 210 ) Indian Resturants in Trinity, West Toronto:0\n",
            "( 66 / 210 ) Indian Resturants in East Birchmount Park, Scarborough:0\n",
            "( 67 / 210 ) Indian Resturants in Ionview, Scarborough:0\n",
            "( 68 / 210 ) Indian Resturants in Kennedy Park, Scarborough:0\n",
            "( 69 / 210 ) Indian Resturants in Bayview Village, North York:0\n",
            "( 70 / 210 ) Indian Resturants in CFB Toronto, North York:0\n",
            "( 71 / 210 ) Indian Resturants in Downsview East, North York:0\n",
            "( 72 / 210 ) Indian Resturants in The Danforth West, East Toronto:0\n",
            "( 73 / 210 ) Indian Resturants in Riverdale, East Toronto:0\n",
            "( 74 / 210 ) Indian Resturants in Design Exchange, Downtown Toronto:0\n",
            "( 75 / 210 ) Indian Resturants in Toronto Dominion Centre, Downtown Toronto:0\n",
            "( 76 / 210 ) Indian Resturants in Brockton, West Toronto:2\n",
            "( 77 / 210 ) Indian Resturants in Exhibition Place, West Toronto:2\n",
            "( 78 / 210 ) Indian Resturants in Parkdale Village, West Toronto:2\n",
            "( 79 / 210 ) Indian Resturants in Clairlea, Scarborough:0\n",
            "( 80 / 210 ) Indian Resturants in Golden Mile, Scarborough:0\n",
            "( 81 / 210 ) Indian Resturants in Oakridge, Scarborough:0\n",
            "( 82 / 210 ) Indian Resturants in Silver Hills, North York:0\n",
            "( 83 / 210 ) Indian Resturants in York Mills, North York:0\n",
            "( 84 / 210 ) Indian Resturants in Downsview West, North York:0\n",
            "( 85 / 210 ) Indian Resturants in The Beaches West, East Toronto:7\n",
            "( 86 / 210 ) Indian Resturants in India Bazaar, East Toronto:7\n",
            "( 87 / 210 ) Indian Resturants in Commerce Court, Downtown Toronto:0\n",
            "( 88 / 210 ) Indian Resturants in Victoria Hotel, Downtown Toronto:0\n",
            "( 89 / 210 ) Indian Resturants in Downsview, North York:0\n",
            "( 90 / 210 ) Indian Resturants in North Park, North York:0\n",
            "( 91 / 210 ) Indian Resturants in Upwood Park, North York:0\n",
            "( 92 / 210 ) Indian Resturants in Humber Summit, North York:0\n",
            "( 93 / 210 ) Indian Resturants in Cliffcrest, Scarborough:0\n",
            "( 94 / 210 ) Indian Resturants in Cliffside, Scarborough:0\n",
            "( 95 / 210 ) Indian Resturants in Scarborough Village West, Scarborough:0\n",
            "( 96 / 210 ) Indian Resturants in Newtonbrook, North York:1\n",
            "( 97 / 210 ) Indian Resturants in Willowdale, North York:1\n",
            "( 98 / 210 ) Indian Resturants in Downsview Central, North York:0\n",
            "( 99 / 210 ) Indian Resturants in Studio District, East Toronto:0\n",
            "( 100 / 210 ) Indian Resturants in Bedford Park, North York:1\n",
            "( 101 / 210 ) Indian Resturants in Lawrence Manor East, North York:1\n",
            "( 102 / 210 ) Indian Resturants in Del Ray, York:0\n",
            "( 103 / 210 ) Indian Resturants in Keelesdale, York:0\n",
            "( 104 / 210 ) Indian Resturants in Mount Dennis, York:0\n",
            "( 105 / 210 ) Indian Resturants in Silverthorn, York:0\n",
            "( 106 / 210 ) Indian Resturants in Emery, North York:0\n",
            "( 107 / 210 ) Indian Resturants in Humberlea, North York:0\n",
            "( 108 / 210 ) Indian Resturants in Birch Cliff, Scarborough:0\n",
            "( 109 / 210 ) Indian Resturants in Cliffside West, Scarborough:0\n",
            "( 110 / 210 ) Indian Resturants in Willowdale South, North York:0\n",
            "( 111 / 210 ) Indian Resturants in Downsview Northwest, North York:0\n",
            "( 112 / 210 ) Indian Resturants in Lawrence Park, Central Toronto:0\n",
            "( 113 / 210 ) Indian Resturants in Roselawn, Central Toronto:0\n",
            "( 114 / 210 ) Indian Resturants in The Junction North, York:1\n",
            "( 115 / 210 ) Indian Resturants in Runnymede, York:1\n",
            "( 116 / 210 ) Indian Resturants in Weston, York:0\n",
            "( 117 / 210 ) Indian Resturants in Dorset Park, Scarborough:2\n",
            "( 118 / 210 ) Indian Resturants in Scarborough Town Centre, Scarborough:2\n",
            "( 119 / 210 ) Indian Resturants in Wexford Heights, Scarborough:2\n",
            "( 120 / 210 ) Indian Resturants in York Mills West, North York:0\n",
            "( 121 / 210 ) Indian Resturants in Davisville North, Central Toronto:1\n",
            "( 122 / 210 ) Indian Resturants in Forest Hill North, Central Toronto:0\n",
            "( 123 / 210 ) Indian Resturants in Forest Hill West, Central Toronto:0\n",
            "( 124 / 210 ) Indian Resturants in High Park, West Toronto:1\n",
            "( 125 / 210 ) Indian Resturants in The Junction South, West Toronto:1\n",
            "( 126 / 210 ) Indian Resturants in Westmount, Etobicoke:0\n",
            "( 127 / 210 ) Indian Resturants in Maryvale, Scarborough:1\n",
            "( 128 / 210 ) Indian Resturants in Wexford, Scarborough:1\n",
            "( 129 / 210 ) Indian Resturants in Willowdale West, North York:0\n",
            "( 130 / 210 ) Indian Resturants in North Toronto West, Central Toronto:0\n",
            "( 131 / 210 ) Indian Resturants in The Annex, Central Toronto:2\n",
            "( 132 / 210 ) Indian Resturants in North Midtown, Central Toronto:2\n",
            "( 133 / 210 ) Indian Resturants in Yorkville, Central Toronto:2\n",
            "( 134 / 210 ) Indian Resturants in Parkdale, West Toronto:0\n",
            "( 135 / 210 ) Indian Resturants in Roncesvalles, West Toronto:0\n",
            "( 136 / 210 ) Indian Resturants in Canada Post Gateway Processing Centre, Mississauga:2\n",
            "( 137 / 210 ) Indian Resturants in Kingsview Village, Etobicoke:0\n",
            "( 138 / 210 ) Indian Resturants in Martin Grove Gardens, Etobicoke:0\n",
            "( 139 / 210 ) Indian Resturants in Richview Gardens, Etobicoke:0\n",
            "( 140 / 210 ) Indian Resturants in St. Phillips, Etobicoke:0\n",
            "( 141 / 210 ) Indian Resturants in Agincourt, Scarborough:1\n",
            "( 142 / 210 ) Indian Resturants in Davisville, Central Toronto:3\n",
            "( 143 / 210 ) Indian Resturants in Harbord, Downtown Toronto:0\n",
            "( 144 / 210 ) Indian Resturants in University of Toronto, Downtown Toronto:0\n",
            "( 145 / 210 ) Indian Resturants in Runnymede, West Toronto:1\n",
            "( 146 / 210 ) Indian Resturants in Swansea, West Toronto:1\n",
            "( 147 / 210 ) Indian Resturants in Clarks Corners, Scarborough:0\n",
            "( 148 / 210 ) Indian Resturants in Sullivan, Scarborough:0\n",
            "( 149 / 210 ) Indian Resturants in Tam O'Shanter, Scarborough:0\n",
            "( 150 / 210 ) Indian Resturants in Moore Park, Central Toronto:0\n",
            "( 151 / 210 ) Indian Resturants in Summerhill East, Central Toronto:0\n",
            "( 152 / 210 ) Indian Resturants in Chinatown, Downtown Toronto:0\n",
            "( 153 / 210 ) Indian Resturants in Grange Park, Downtown Toronto:0\n",
            "( 154 / 210 ) Indian Resturants in Kensington Market, Downtown Toronto:0\n",
            "( 155 / 210 ) Indian Resturants in Agincourt North, Scarborough:0\n",
            "( 156 / 210 ) Indian Resturants in L'Amoreaux East, Scarborough:0\n",
            "( 157 / 210 ) Indian Resturants in Milliken, Scarborough:0\n",
            "( 158 / 210 ) Indian Resturants in Steeles East, Scarborough:0\n",
            "( 159 / 210 ) Indian Resturants in Deer Park, Central Toronto:0\n",
            "( 160 / 210 ) Indian Resturants in Forest Hill SE, Central Toronto:0\n",
            "( 161 / 210 ) Indian Resturants in Rathnelly, Central Toronto:0\n",
            "( 162 / 210 ) Indian Resturants in South Hill, Central Toronto:0\n",
            "( 163 / 210 ) Indian Resturants in Summerhill West, Central Toronto:0\n",
            "( 164 / 210 ) Indian Resturants in CN Tower, Downtown Toronto:0\n",
            "( 165 / 210 ) Indian Resturants in Bathurst Quay, Downtown Toronto:0\n",
            "( 166 / 210 ) Indian Resturants in Island airport, Downtown Toronto:0\n",
            "( 167 / 210 ) Indian Resturants in Harbourfront West, Downtown Toronto:0\n",
            "( 168 / 210 ) Indian Resturants in King and Spadina, Downtown Toronto:0\n",
            "( 169 / 210 ) Indian Resturants in Railway Lands, Downtown Toronto:0\n",
            "( 170 / 210 ) Indian Resturants in South Niagara, Downtown Toronto:0\n",
            "( 171 / 210 ) Indian Resturants in Humber Bay Shores, Etobicoke:1\n",
            "( 172 / 210 ) Indian Resturants in Mimico South, Etobicoke:1\n",
            "( 173 / 210 ) Indian Resturants in New Toronto, Etobicoke:1\n",
            "( 174 / 210 ) Indian Resturants in Albion Gardens, Etobicoke:0\n",
            "( 175 / 210 ) Indian Resturants in Beaumond Heights, Etobicoke:0\n",
            "( 176 / 210 ) Indian Resturants in Humbergate, Etobicoke:0\n",
            "( 177 / 210 ) Indian Resturants in Jamestown, Etobicoke:0\n",
            "( 178 / 210 ) Indian Resturants in Mount Olive, Etobicoke:0\n",
            "( 179 / 210 ) Indian Resturants in Silverstone, Etobicoke:0\n",
            "( 180 / 210 ) Indian Resturants in South Steeles, Etobicoke:0\n",
            "( 181 / 210 ) Indian Resturants in Thistletown, Etobicoke:0\n",
            "( 182 / 210 ) Indian Resturants in L'Amoreaux West, Scarborough:0\n",
            "( 183 / 210 ) Indian Resturants in Rosedale, Downtown Toronto:0\n",
            "( 184 / 210 ) Indian Resturants in Stn A PO Boxes 25 The Esplanade, Downtown Toronto:0\n",
            "( 185 / 210 ) Indian Resturants in Alderwood, Etobicoke:0\n",
            "( 186 / 210 ) Indian Resturants in Long Branch, Etobicoke:0\n",
            "( 187 / 210 ) Indian Resturants in Northwest, Etobicoke:0\n",
            "( 188 / 210 ) Indian Resturants in Upper Rouge, Scarborough:0\n",
            "( 189 / 210 ) Indian Resturants in Cabbagetown, Downtown Toronto:1\n",
            "( 190 / 210 ) Indian Resturants in St. James Town, Downtown Toronto:1\n",
            "( 191 / 210 ) Indian Resturants in First Canadian Place, Downtown Toronto:0\n",
            "( 192 / 210 ) Indian Resturants in Underground city, Downtown Toronto:0\n",
            "( 193 / 210 ) Indian Resturants in The Kingsway, Etobicoke:1\n",
            "( 194 / 210 ) Indian Resturants in Montgomery Road, Etobicoke:1\n",
            "( 195 / 210 ) Indian Resturants in Old Mill North, Etobicoke:1\n",
            "( 196 / 210 ) Indian Resturants in Church and Wellesley, Downtown Toronto:1\n",
            "( 197 / 210 ) Indian Resturants in Business Reply Mail Processing Centre 969 Eastern, East Toronto:0\n",
            "( 198 / 210 ) Indian Resturants in Humber Bay, Etobicoke:0\n",
            "( 199 / 210 ) Indian Resturants in King's Mill Park, Etobicoke:0\n",
            "( 200 / 210 ) Indian Resturants in Kingsway Park South East, Etobicoke:0\n",
            "( 201 / 210 ) Indian Resturants in Mimico NE, Etobicoke:0\n",
            "( 202 / 210 ) Indian Resturants in Old Mill South, Etobicoke:0\n",
            "( 203 / 210 ) Indian Resturants in The Queensway East, Etobicoke:0\n",
            "( 204 / 210 ) Indian Resturants in Royal York South East, Etobicoke:0\n",
            "( 205 / 210 ) Indian Resturants in Sunnylea, Etobicoke:0\n",
            "( 206 / 210 ) Indian Resturants in Kingsway Park South West, Etobicoke:0\n",
            "( 207 / 210 ) Indian Resturants in Mimico NW, Etobicoke:0\n",
            "( 208 / 210 ) Indian Resturants in The Queensway West, Etobicoke:0\n",
            "( 209 / 210 ) Indian Resturants in Royal York South West, Etobicoke:0\n",
            "( 210 / 210 ) Indian Resturants in South of Bloor, Etobicoke:0\n"
          ],
          "name": "stdout"
        }
      ]
    },
    {
      "cell_type": "code",
      "metadata": {
        "id": "etWFlb0ZwCIy",
        "colab_type": "code",
        "colab": {
          "base_uri": "https://localhost:8080/",
          "height": 204
        },
        "outputId": "f0d73c4a-8616-4c57-f966-7880f728d4c7"
      },
      "source": [
        "indian_rest_ny.head()"
      ],
      "execution_count": 27,
      "outputs": [
        {
          "output_type": "execute_result",
          "data": {
            "text/html": [
              "<div>\n",
              "<style scoped>\n",
              "    .dataframe tbody tr th:only-of-type {\n",
              "        vertical-align: middle;\n",
              "    }\n",
              "\n",
              "    .dataframe tbody tr th {\n",
              "        vertical-align: top;\n",
              "    }\n",
              "\n",
              "    .dataframe thead th {\n",
              "        text-align: right;\n",
              "    }\n",
              "</style>\n",
              "<table border=\"1\" class=\"dataframe\">\n",
              "  <thead>\n",
              "    <tr style=\"text-align: right;\">\n",
              "      <th></th>\n",
              "      <th>PostalCode</th>\n",
              "      <th>Borough</th>\n",
              "      <th>Neighbourhood</th>\n",
              "      <th>ID</th>\n",
              "      <th>Name</th>\n",
              "    </tr>\n",
              "  </thead>\n",
              "  <tbody>\n",
              "    <tr>\n",
              "      <th>0</th>\n",
              "      <td>M5A</td>\n",
              "      <td>Downtown Toronto</td>\n",
              "      <td>Harbourfront</td>\n",
              "      <td>4af9a379f964a520c91222e3</td>\n",
              "      <td>Bombay Palace</td>\n",
              "    </tr>\n",
              "    <tr>\n",
              "      <th>1</th>\n",
              "      <td>M5A</td>\n",
              "      <td>Downtown Toronto</td>\n",
              "      <td>Harbourfront</td>\n",
              "      <td>52af6dc5498e33995b0bbf03</td>\n",
              "      <td>Sultan Of Samosas</td>\n",
              "    </tr>\n",
              "    <tr>\n",
              "      <th>2</th>\n",
              "      <td>M7A</td>\n",
              "      <td>Downtown Toronto</td>\n",
              "      <td>Queen's Park</td>\n",
              "      <td>4bedf8b5e24d20a17b567214</td>\n",
              "      <td>Kothur Indian Cuisine</td>\n",
              "    </tr>\n",
              "    <tr>\n",
              "      <th>3</th>\n",
              "      <td>M4E</td>\n",
              "      <td>East Toronto</td>\n",
              "      <td>The Beaches</td>\n",
              "      <td>4dcd7c6352b1f8915b7e7f7e</td>\n",
              "      <td>Delhi Bistro</td>\n",
              "    </tr>\n",
              "    <tr>\n",
              "      <th>4</th>\n",
              "      <td>M1G</td>\n",
              "      <td>Scarborough</td>\n",
              "      <td>Woburn</td>\n",
              "      <td>4c632edeedd320a19ad5ae29</td>\n",
              "      <td>Bombay Palace</td>\n",
              "    </tr>\n",
              "  </tbody>\n",
              "</table>\n",
              "</div>"
            ],
            "text/plain": [
              "  PostalCode           Borough Neighbourhood                        ID  \\\n",
              "0        M5A  Downtown Toronto  Harbourfront  4af9a379f964a520c91222e3   \n",
              "1        M5A  Downtown Toronto  Harbourfront  52af6dc5498e33995b0bbf03   \n",
              "2        M7A  Downtown Toronto  Queen's Park  4bedf8b5e24d20a17b567214   \n",
              "3        M4E      East Toronto   The Beaches  4dcd7c6352b1f8915b7e7f7e   \n",
              "4        M1G       Scarborough        Woburn  4c632edeedd320a19ad5ae29   \n",
              "\n",
              "                    Name  \n",
              "0          Bombay Palace  \n",
              "1      Sultan Of Samosas  \n",
              "2  Kothur Indian Cuisine  \n",
              "3           Delhi Bistro  \n",
              "4          Bombay Palace  "
            ]
          },
          "metadata": {
            "tags": []
          },
          "execution_count": 27
        }
      ]
    },
    {
      "cell_type": "code",
      "metadata": {
        "id": "FlXPed1dwE1J",
        "colab_type": "code",
        "colab": {
          "base_uri": "https://localhost:8080/",
          "height": 34
        },
        "outputId": "ed93aa9b-ed9a-4030-e24b-0e6afdd89bf0"
      },
      "source": [
        "indian_rest_ny.shape"
      ],
      "execution_count": 28,
      "outputs": [
        {
          "output_type": "execute_result",
          "data": {
            "text/plain": [
              "(74, 5)"
            ]
          },
          "metadata": {
            "tags": []
          },
          "execution_count": 28
        }
      ]
    },
    {
      "cell_type": "markdown",
      "metadata": {
        "id": "UPrr8876CdFU",
        "colab_type": "text"
      },
      "source": [
        "74  Indian resturant in Toronto city"
      ]
    },
    {
      "cell_type": "markdown",
      "metadata": {
        "id": "g9C8cWFBEK4j",
        "colab_type": "text"
      },
      "source": [
        "Display No.of resturant Borough wise"
      ]
    },
    {
      "cell_type": "code",
      "metadata": {
        "id": "12x7-blxwHUb",
        "colab_type": "code",
        "colab": {
          "base_uri": "https://localhost:8080/",
          "height": 604
        },
        "outputId": "c95cccdc-1236-4511-f722-80738aaabd4d"
      },
      "source": [
        "plt.figure(figsize=(9,5), dpi = 100)\n",
        "# title\n",
        "plt.title('Number of Indian Resturants for each Borough in New Toronto')\n",
        "#On x-axis\n",
        "plt.xlabel('Borough', fontsize = 15)\n",
        "#On y-axis\n",
        "plt.ylabel('No.of Indian Resturants', fontsize=15)\n",
        "#giving a bar plot\n",
        "indian_rest_ny.groupby('Borough')['ID'].count().plot(kind='bar')\n",
        "#legend\n",
        "plt.legend()\n",
        "#displays the plot\n",
        "plt.show()"
      ],
      "execution_count": 29,
      "outputs": [
        {
          "output_type": "display_data",
          "data": {
            "image/png": "[encoded data removed]",
            "text/plain": [
              "<Figure size 900x500 with 1 Axes>"
            ]
          },
          "metadata": {
            "tags": []
          }
        }
      ]
    },
    {
      "cell_type": "markdown",
      "metadata": {
        "id": "jcUQAMUeD66z",
        "colab_type": "text"
      },
      "source": [
        "Borough East Toronto has  maximum number of Indain restuarant"
      ]
    },
    {
      "cell_type": "markdown",
      "metadata": {
        "id": "oPBf8frcC2MN",
        "colab_type": "text"
      },
      "source": [
        ""
      ]
    },
    {
      "cell_type": "markdown",
      "metadata": {
        "id": "qyk8IJHoEB7S",
        "colab_type": "text"
      },
      "source": [
        "Display Number of Indian  restuarant neighbourhood wise"
      ]
    },
    {
      "cell_type": "code",
      "metadata": {
        "id": "JOQd0K8IwJnD",
        "colab_type": "code",
        "colab": {
          "base_uri": "https://localhost:8080/",
          "height": 601
        },
        "outputId": "dc044593-18da-4813-a98c-48cb08fcbf0a"
      },
      "source": [
        "plt.figure(figsize=(9,5), dpi = 100)\n",
        "# title\n",
        "plt.title('Number of Indian Resturants for each Neighborhood in Toronto City')\n",
        "#On x-axis\n",
        "plt.xlabel('Neighbourhood', fontsize = 15)\n",
        "#On y-axis\n",
        "plt.ylabel('No.of Indian Resturants', fontsize=15)\n",
        "#giving a bar plot\n",
        "indian_rest_ny.groupby('Neighbourhood')['ID'].count().nlargest(5).plot(kind='bar')\n",
        "#legend\n",
        "plt.legend()\n",
        "#displays the plot\n",
        "plt.show()"
      ],
      "execution_count": 30,
      "outputs": [
        {
          "output_type": "display_data",
          "data": {
            "image/png": "[encoded data removed]",
            "text/plain": [
              "<Figure size 900x500 with 1 Axes>"
            ]
          },
          "metadata": {
            "tags": []
          }
        }
      ]
    },
    {
      "cell_type": "code",
      "metadata": {
        "id": "iaRX4AfUwMy7",
        "colab_type": "code",
        "colab": {
          "base_uri": "https://localhost:8080/",
          "height": 266
        },
        "outputId": "df0cc524-6cc4-44fb-d03c-561ec3398cc4"
      },
      "source": [
        "indian_rest_ny[indian_rest_ny['Neighbourhood']=='India Bazaar']"
      ],
      "execution_count": 31,
      "outputs": [
        {
          "output_type": "execute_result",
          "data": {
            "text/html": [
              "<div>\n",
              "<style scoped>\n",
              "    .dataframe tbody tr th:only-of-type {\n",
              "        vertical-align: middle;\n",
              "    }\n",
              "\n",
              "    .dataframe tbody tr th {\n",
              "        vertical-align: top;\n",
              "    }\n",
              "\n",
              "    .dataframe thead th {\n",
              "        text-align: right;\n",
              "    }\n",
              "</style>\n",
              "<table border=\"1\" class=\"dataframe\">\n",
              "  <thead>\n",
              "    <tr style=\"text-align: right;\">\n",
              "      <th></th>\n",
              "      <th>PostalCode</th>\n",
              "      <th>Borough</th>\n",
              "      <th>Neighbourhood</th>\n",
              "      <th>ID</th>\n",
              "      <th>Name</th>\n",
              "    </tr>\n",
              "  </thead>\n",
              "  <tbody>\n",
              "    <tr>\n",
              "      <th>27</th>\n",
              "      <td>M4L</td>\n",
              "      <td>East Toronto</td>\n",
              "      <td>India Bazaar</td>\n",
              "      <td>4ae0c7a8f964a520638221e3</td>\n",
              "      <td>Udupi Palace</td>\n",
              "    </tr>\n",
              "    <tr>\n",
              "      <th>28</th>\n",
              "      <td>M4L</td>\n",
              "      <td>East Toronto</td>\n",
              "      <td>India Bazaar</td>\n",
              "      <td>4afc9816f964a520312422e3</td>\n",
              "      <td>Motimahal</td>\n",
              "    </tr>\n",
              "    <tr>\n",
              "      <th>29</th>\n",
              "      <td>M4L</td>\n",
              "      <td>East Toronto</td>\n",
              "      <td>India Bazaar</td>\n",
              "      <td>4bac30a2f964a52018ea3ae3</td>\n",
              "      <td>Bombay Chowpatty</td>\n",
              "    </tr>\n",
              "    <tr>\n",
              "      <th>30</th>\n",
              "      <td>M4L</td>\n",
              "      <td>East Toronto</td>\n",
              "      <td>India Bazaar</td>\n",
              "      <td>4bbcc0efa0a0c9b60ebd1a0f</td>\n",
              "      <td>Haandi 2000</td>\n",
              "    </tr>\n",
              "    <tr>\n",
              "      <th>31</th>\n",
              "      <td>M4L</td>\n",
              "      <td>East Toronto</td>\n",
              "      <td>India Bazaar</td>\n",
              "      <td>4ad9052cf964a520301721e3</td>\n",
              "      <td>Regency Restaurant</td>\n",
              "    </tr>\n",
              "    <tr>\n",
              "      <th>32</th>\n",
              "      <td>M4L</td>\n",
              "      <td>East Toronto</td>\n",
              "      <td>India Bazaar</td>\n",
              "      <td>4d8d278a1d06b1f712942a3b</td>\n",
              "      <td>Gautama</td>\n",
              "    </tr>\n",
              "    <tr>\n",
              "      <th>33</th>\n",
              "      <td>M4L</td>\n",
              "      <td>East Toronto</td>\n",
              "      <td>India Bazaar</td>\n",
              "      <td>4ae4c793f964a5201b9e21e3</td>\n",
              "      <td>The Famous Indian Restaurant</td>\n",
              "    </tr>\n",
              "  </tbody>\n",
              "</table>\n",
              "</div>"
            ],
            "text/plain": [
              "   PostalCode       Borough Neighbourhood                        ID  \\\n",
              "27        M4L  East Toronto  India Bazaar  4ae0c7a8f964a520638221e3   \n",
              "28        M4L  East Toronto  India Bazaar  4afc9816f964a520312422e3   \n",
              "29        M4L  East Toronto  India Bazaar  4bac30a2f964a52018ea3ae3   \n",
              "30        M4L  East Toronto  India Bazaar  4bbcc0efa0a0c9b60ebd1a0f   \n",
              "31        M4L  East Toronto  India Bazaar  4ad9052cf964a520301721e3   \n",
              "32        M4L  East Toronto  India Bazaar  4d8d278a1d06b1f712942a3b   \n",
              "33        M4L  East Toronto  India Bazaar  4ae4c793f964a5201b9e21e3   \n",
              "\n",
              "                            Name  \n",
              "27                  Udupi Palace  \n",
              "28                     Motimahal  \n",
              "29              Bombay Chowpatty  \n",
              "30                   Haandi 2000  \n",
              "31            Regency Restaurant  \n",
              "32                       Gautama  \n",
              "33  The Famous Indian Restaurant  "
            ]
          },
          "metadata": {
            "tags": []
          },
          "execution_count": 31
        }
      ]
    },
    {
      "cell_type": "markdown",
      "metadata": {
        "id": "XItHev4eDSYk",
        "colab_type": "text"
      },
      "source": [
        "Here we do further analysis "
      ]
    },
    {
      "cell_type": "code",
      "metadata": {
        "id": "mEZeE-CIwRH8",
        "colab_type": "code",
        "colab": {
          "base_uri": "https://localhost:8080/",
          "height": 1000
        },
        "outputId": "97a0dcab-0acb-41f1-e911-ac47fcac29fd"
      },
      "source": [
        "column_names=['Borough', 'Neighbourhood', 'ID','Name','Likes','Rating','Tips']\n",
        "indian_rest_stats_ny=pd.DataFrame(columns=column_names)\n",
        "count=1\n",
        "\n",
        "\n",
        "for row in indian_rest_ny.values.tolist():\n",
        "    PostalCode,Borough,Neighborhood,ID,Name=row\n",
        "    try:\n",
        "        venue_details=get_venue_details(ID)\n",
        "        print(venue_details)\n",
        "        id,name,likes,rating,tips=venue_details.values.tolist()[0]\n",
        "    except IndexError:\n",
        "        print('No data available for id=',ID)\n",
        "        # we will assign 0 value for these resturants as they may have been \n",
        "        #recently opened or details does not exist in FourSquare Database\n",
        "        id,name,likes,rating,tips=[0]*5\n",
        "    print('(',count,'/',len(indian_rest_ny),')','processed')\n",
        "    indian_rest_stats_ny = indian_rest_stats_ny.append({'PostalCode':PostalCode,\n",
        "                                                'Borough': Borough,\n",
        "                                                'Neighbourhood': Neighbourhood, \n",
        "                                                'ID': id,\n",
        "                                                'Name' : name,\n",
        "                                                'Likes' : likes,\n",
        "                                                'Rating' : rating,\n",
        "                                                'Tips' : tips\n",
        "                                               }, ignore_index=True)\n",
        "    count+=1"
      ],
      "execution_count": 32,
      "outputs": [
        {
          "output_type": "stream",
          "text": [
            "                         ID           Name  Likes  Rating  Tips\n",
            "0  4af9a379f964a520c91222e3  Bombay Palace     14     7.4    13\n",
            "( 1 / 74 ) processed\n",
            "                         ID               Name  Likes  Rating  Tips\n",
            "0  52af6dc5498e33995b0bbf03  Sultan Of Samosas      9     7.0     4\n",
            "( 2 / 74 ) processed\n",
            "                         ID                   Name  Likes  Rating  Tips\n",
            "0  4bedf8b5e24d20a17b567214  Kothur Indian Cuisine     16     8.3    19\n",
            "( 3 / 74 ) processed\n",
            "                         ID          Name  Likes  Rating  Tips\n",
            "0  4dcd7c6352b1f8915b7e7f7e  Delhi Bistro      6     7.1     3\n",
            "( 4 / 74 ) processed\n",
            "Empty DataFrame\n",
            "Columns: [ID, Name, Likes, Rating, Tips]\n",
            "Index: []\n",
            "No data available for id= 4c632edeedd320a19ad5ae29\n",
            "( 5 / 74 ) processed\n",
            "                         ID                   Name  Likes  Rating  Tips\n",
            "0  504bcf32e4b0ef19b0e2ecf8  Mt Everest Restaurant      8     6.3     6\n",
            "( 6 / 74 ) processed\n",
            "                         ID                    Name  Likes  Rating  Tips\n",
            "0  4adb969ef964a520332921e3  Banjara Indian Cuisine    142     8.9    75\n",
            "( 7 / 74 ) processed\n",
            "                         ID           Name  Likes  Rating  Tips\n",
            "0  4b7369d7f964a52049ad2de3  Madras Masala     35     8.2    21\n",
            "( 8 / 74 ) processed\n",
            "                         ID             Name  Likes  Rating  Tips\n",
            "0  4d6008f829ef236a8832a059  CANBE Foods Inc     22     8.1     8\n",
            "( 9 / 74 ) processed\n",
            "                         ID           Name  Likes  Rating  Tips\n",
            "0  4c77fc87bd346dcb8c90f0ef  La Sani Grill     12     7.1    12\n",
            "( 10 / 74 ) processed\n",
            "                         ID                        Name  Likes  Rating  Tips\n",
            "0  4daf08e66e81e2dffdd4fe40  Iqbal Kebab & Sweet Centre     13     8.1     6\n",
            "( 11 / 74 ) processed\n",
            "                         ID              Name  Likes  Rating  Tips\n",
            "0  507a19e5e4b0602b62f73d11  Faley Restaurant      6     6.8     4\n",
            "( 12 / 74 ) processed\n",
            "                         ID          Name  Likes  Rating  Tips\n",
            "0  4bed9f2fbac3c9b6ad93fee9  Hakka Garden     10     6.2    12\n",
            "( 13 / 74 ) processed\n",
            "Empty DataFrame\n",
            "Columns: [ID, Name, Likes, Rating, Tips]\n",
            "Index: []\n",
            "No data available for id= 4c9fe5ca03133704df8d76d5\n",
            "( 14 / 74 ) processed\n",
            "                         ID          Name  Likes  Rating  Tips\n",
            "0  4aecbbb0f964a520bcca21e3  Mother India     45     8.3    31\n",
            "( 15 / 74 ) processed\n",
            "                         ID           Name  Likes  Rating  Tips\n",
            "0  4ba6e1f8f964a520537539e3  Om Restaurant     20     7.5    18\n",
            "( 16 / 74 ) processed\n",
            "                         ID          Name  Likes  Rating  Tips\n",
            "0  4aecbbb0f964a520bcca21e3  Mother India     45     8.3    31\n",
            "( 17 / 74 ) processed\n",
            "                         ID           Name  Likes  Rating  Tips\n",
            "0  4ba6e1f8f964a520537539e3  Om Restaurant     20     7.5    18\n",
            "( 18 / 74 ) processed\n",
            "                         ID          Name  Likes  Rating  Tips\n",
            "0  4aecbbb0f964a520bcca21e3  Mother India     45     8.3    31\n",
            "( 19 / 74 ) processed\n",
            "                         ID           Name  Likes  Rating  Tips\n",
            "0  4ba6e1f8f964a520537539e3  Om Restaurant     20     7.5    18\n",
            "( 20 / 74 ) processed\n",
            "                         ID          Name  Likes  Rating  Tips\n",
            "0  4ae0c7a8f964a520638221e3  Udupi Palace     79     8.5    31\n",
            "( 21 / 74 ) processed\n",
            "                         ID       Name  Likes  Rating  Tips\n",
            "0  4afc9816f964a520312422e3  Motimahal     25     7.5    13\n",
            "( 22 / 74 ) processed\n",
            "                         ID              Name  Likes  Rating  Tips\n",
            "0  4bac30a2f964a52018ea3ae3  Bombay Chowpatty      7     7.0     5\n",
            "( 23 / 74 ) processed\n",
            "                         ID         Name  Likes  Rating  Tips\n",
            "0  4bbcc0efa0a0c9b60ebd1a0f  Haandi 2000      3     6.3     7\n",
            "( 24 / 74 ) processed\n",
            "                         ID                Name  Likes  Rating  Tips\n",
            "0  4ad9052cf964a520301721e3  Regency Restaurant      6     6.1     4\n",
            "( 25 / 74 ) processed\n",
            "                         ID     Name  Likes  Rating  Tips\n",
            "0  4d8d278a1d06b1f712942a3b  Gautama     15     5.7    15\n",
            "( 26 / 74 ) processed\n",
            "Empty DataFrame\n",
            "Columns: [ID, Name, Likes, Rating, Tips]\n",
            "Index: []\n",
            "No data available for id= 4ae4c793f964a5201b9e21e3\n",
            "( 27 / 74 ) processed\n",
            "                         ID          Name  Likes  Rating  Tips\n",
            "0  4ae0c7a8f964a520638221e3  Udupi Palace     79     8.5    31\n",
            "( 28 / 74 ) processed\n",
            "                         ID       Name  Likes  Rating  Tips\n",
            "0  4afc9816f964a520312422e3  Motimahal     25     7.5    13\n",
            "( 29 / 74 ) processed\n",
            "                         ID              Name  Likes  Rating  Tips\n",
            "0  4bac30a2f964a52018ea3ae3  Bombay Chowpatty      7     7.0     5\n",
            "( 30 / 74 ) processed\n",
            "                         ID         Name  Likes  Rating  Tips\n",
            "0  4bbcc0efa0a0c9b60ebd1a0f  Haandi 2000      3     6.3     7\n",
            "( 31 / 74 ) processed\n",
            "                         ID                Name  Likes  Rating  Tips\n",
            "0  4ad9052cf964a520301721e3  Regency Restaurant      6     6.1     4\n",
            "( 32 / 74 ) processed\n",
            "                         ID     Name  Likes  Rating  Tips\n",
            "0  4d8d278a1d06b1f712942a3b  Gautama     15     5.7    15\n",
            "( 33 / 74 ) processed\n",
            "Empty DataFrame\n",
            "Columns: [ID, Name, Likes, Rating, Tips]\n",
            "Index: []\n",
            "No data available for id= 4ae4c793f964a5201b9e21e3\n",
            "( 34 / 74 ) processed\n",
            "                         ID                     Name  Likes  Rating  Tips\n",
            "0  4b43dde2f964a52099ec25e3  Earth Indian Restaurant      4     6.0    11\n",
            "( 35 / 74 ) processed\n",
            "                         ID                     Name  Likes  Rating  Tips\n",
            "0  4b43dde2f964a52099ec25e3  Earth Indian Restaurant      4     6.0    11\n",
            "( 36 / 74 ) processed\n",
            "                         ID                Name  Likes  Rating  Tips\n",
            "0  4d796616542ab1f75eb87c41  The Copper Chimney     14     7.2    15\n",
            "( 37 / 74 ) processed\n",
            "                         ID                Name  Likes  Rating  Tips\n",
            "0  4d796616542ab1f75eb87c41  The Copper Chimney     14     7.2    15\n",
            "( 38 / 74 ) processed\n",
            "                         ID       Name  Likes  Rating  Tips\n",
            "0  4b3bd657f964a520377c25e3  Roti Time      5     6.1    11\n",
            "( 39 / 74 ) processed\n",
            "                         ID       Name  Likes  Rating  Tips\n",
            "0  4b3bd657f964a520377c25e3  Roti Time      5     6.1    11\n",
            "( 40 / 74 ) processed\n",
            "                         ID     Name  Likes  Rating  Tips\n",
            "0  5226562611d2cd49d83ef03b  Kairali      9     7.4     6\n",
            "( 41 / 74 ) processed\n",
            "                         ID                                         Name  \\\n",
            "0  4bf96c435317a593a23a017f  Karaikudi Chettinad South Indian Restaurant   \n",
            "\n",
            "   Likes  Rating  Tips  \n",
            "0     27     6.0    23  \n",
            "( 42 / 74 ) processed\n",
            "                         ID     Name  Likes  Rating  Tips\n",
            "0  5226562611d2cd49d83ef03b  Kairali      9     7.4     6\n",
            "( 43 / 74 ) processed\n",
            "                         ID                                         Name  \\\n",
            "0  4bf96c435317a593a23a017f  Karaikudi Chettinad South Indian Restaurant   \n",
            "\n",
            "   Likes  Rating  Tips  \n",
            "0     27     6.0    23  \n",
            "( 44 / 74 ) processed\n",
            "                         ID     Name  Likes  Rating  Tips\n",
            "0  5226562611d2cd49d83ef03b  Kairali      9     7.4     6\n",
            "( 45 / 74 ) processed\n",
            "                         ID                                         Name  \\\n",
            "0  4bf96c435317a593a23a017f  Karaikudi Chettinad South Indian Restaurant   \n",
            "\n",
            "   Likes  Rating  Tips  \n",
            "0     27     6.0    23  \n",
            "( 46 / 74 ) processed\n",
            "                         ID                    Name  Likes  Rating  Tips\n",
            "0  4b7ccc72f964a520e3a52fe3  Banjara Indian Cuisine     25     6.9    19\n",
            "( 47 / 74 ) processed\n",
            "                         ID         Name  Likes  Rating  Tips\n",
            "0  4b511f6ff964a520994327e3  Curry Twist     20     8.4    17\n",
            "( 48 / 74 ) processed\n",
            "                         ID         Name  Likes  Rating  Tips\n",
            "0  4b511f6ff964a520994327e3  Curry Twist     20     8.4    17\n",
            "( 49 / 74 ) processed\n",
            "                         ID               Name  Likes  Rating  Tips\n",
            "0  4c27cddd9fb5d13a8cab9857  Patna Kebab House      4     8.1     6\n",
            "( 50 / 74 ) processed\n"
          ],
          "name": "stdout"
        },
        {
          "output_type": "error",
          "ename": "KeyError",
          "evalue": "ignored",
          "traceback": [
            "\u001b[0;31m---------------------------------------------------------------------------\u001b[0m",
            "\u001b[0;31mKeyError\u001b[0m                                  Traceback (most recent call last)",
            "\u001b[0;32m<ipython-input-32-e0141c909cc5>\u001b[0m in \u001b[0;36m<module>\u001b[0;34m()\u001b[0m\n\u001b[1;32m      7\u001b[0m     \u001b[0mPostalCode\u001b[0m\u001b[0;34m,\u001b[0m\u001b[0mBorough\u001b[0m\u001b[0;34m,\u001b[0m\u001b[0mNeighborhood\u001b[0m\u001b[0;34m,\u001b[0m\u001b[0mID\u001b[0m\u001b[0;34m,\u001b[0m\u001b[0mName\u001b[0m\u001b[0;34m=\u001b[0m\u001b[0mrow\u001b[0m\u001b[0;34m\u001b[0m\u001b[0;34m\u001b[0m\u001b[0m\n\u001b[1;32m      8\u001b[0m     \u001b[0;32mtry\u001b[0m\u001b[0;34m:\u001b[0m\u001b[0;34m\u001b[0m\u001b[0;34m\u001b[0m\u001b[0m\n\u001b[0;32m----> 9\u001b[0;31m         \u001b[0mvenue_details\u001b[0m\u001b[0;34m=\u001b[0m\u001b[0mget_venue_details\u001b[0m\u001b[0;34m(\u001b[0m\u001b[0mID\u001b[0m\u001b[0;34m)\u001b[0m\u001b[0;34m\u001b[0m\u001b[0;34m\u001b[0m\u001b[0m\n\u001b[0m\u001b[1;32m     10\u001b[0m         \u001b[0mprint\u001b[0m\u001b[0;34m(\u001b[0m\u001b[0mvenue_details\u001b[0m\u001b[0;34m)\u001b[0m\u001b[0;34m\u001b[0m\u001b[0;34m\u001b[0m\u001b[0m\n\u001b[1;32m     11\u001b[0m         \u001b[0mid\u001b[0m\u001b[0;34m,\u001b[0m\u001b[0mname\u001b[0m\u001b[0;34m,\u001b[0m\u001b[0mlikes\u001b[0m\u001b[0;34m,\u001b[0m\u001b[0mrating\u001b[0m\u001b[0;34m,\u001b[0m\u001b[0mtips\u001b[0m\u001b[0;34m=\u001b[0m\u001b[0mvenue_details\u001b[0m\u001b[0;34m.\u001b[0m\u001b[0mvalues\u001b[0m\u001b[0;34m.\u001b[0m\u001b[0mtolist\u001b[0m\u001b[0;34m(\u001b[0m\u001b[0;34m)\u001b[0m\u001b[0;34m[\u001b[0m\u001b[0;36m0\u001b[0m\u001b[0;34m]\u001b[0m\u001b[0;34m\u001b[0m\u001b[0;34m\u001b[0m\u001b[0m\n",
            "\u001b[0;32m<ipython-input-23-94c526981861>\u001b[0m in \u001b[0;36mget_venue_details\u001b[0;34m(venue_id)\u001b[0m\n\u001b[1;32m     14\u001b[0m     \u001b[0;31m# get all the data\u001b[0m\u001b[0;34m\u001b[0m\u001b[0;34m\u001b[0m\u001b[0;34m\u001b[0m\u001b[0m\n\u001b[1;32m     15\u001b[0m     \u001b[0mresults\u001b[0m \u001b[0;34m=\u001b[0m \u001b[0mrequests\u001b[0m\u001b[0;34m.\u001b[0m\u001b[0mget\u001b[0m\u001b[0;34m(\u001b[0m\u001b[0murl\u001b[0m\u001b[0;34m)\u001b[0m\u001b[0;34m.\u001b[0m\u001b[0mjson\u001b[0m\u001b[0;34m(\u001b[0m\u001b[0;34m)\u001b[0m\u001b[0;34m\u001b[0m\u001b[0;34m\u001b[0m\u001b[0m\n\u001b[0;32m---> 16\u001b[0;31m     \u001b[0mvenue_data\u001b[0m\u001b[0;34m=\u001b[0m\u001b[0mresults\u001b[0m\u001b[0;34m[\u001b[0m\u001b[0;34m'response'\u001b[0m\u001b[0;34m]\u001b[0m\u001b[0;34m[\u001b[0m\u001b[0;34m'venue'\u001b[0m\u001b[0;34m]\u001b[0m\u001b[0;34m\u001b[0m\u001b[0;34m\u001b[0m\u001b[0m\n\u001b[0m\u001b[1;32m     17\u001b[0m     \u001b[0mvenue_details\u001b[0m\u001b[0;34m=\u001b[0m\u001b[0;34m[\u001b[0m\u001b[0;34m]\u001b[0m\u001b[0;34m\u001b[0m\u001b[0;34m\u001b[0m\u001b[0m\n\u001b[1;32m     18\u001b[0m     \u001b[0;32mtry\u001b[0m\u001b[0;34m:\u001b[0m\u001b[0;34m\u001b[0m\u001b[0;34m\u001b[0m\u001b[0m\n",
            "\u001b[0;31mKeyError\u001b[0m: 'venue'"
          ]
        }
      ]
    },
    {
      "cell_type": "code",
      "metadata": {
        "id": "04bQLQE4wZX7",
        "colab_type": "code",
        "colab": {
          "base_uri": "https://localhost:8080/",
          "height": 204
        },
        "outputId": "0ea7e4ac-a888-4d88-d95b-d5186b0d3861"
      },
      "source": [
        "indian_rest_stats_ny.head()"
      ],
      "execution_count": 33,
      "outputs": [
        {
          "output_type": "execute_result",
          "data": {
            "text/html": [
              "<div>\n",
              "<style scoped>\n",
              "    .dataframe tbody tr th:only-of-type {\n",
              "        vertical-align: middle;\n",
              "    }\n",
              "\n",
              "    .dataframe tbody tr th {\n",
              "        vertical-align: top;\n",
              "    }\n",
              "\n",
              "    .dataframe thead th {\n",
              "        text-align: right;\n",
              "    }\n",
              "</style>\n",
              "<table border=\"1\" class=\"dataframe\">\n",
              "  <thead>\n",
              "    <tr style=\"text-align: right;\">\n",
              "      <th></th>\n",
              "      <th>Borough</th>\n",
              "      <th>Neighbourhood</th>\n",
              "      <th>ID</th>\n",
              "      <th>Name</th>\n",
              "      <th>Likes</th>\n",
              "      <th>Rating</th>\n",
              "      <th>Tips</th>\n",
              "      <th>PostalCode</th>\n",
              "    </tr>\n",
              "  </thead>\n",
              "  <tbody>\n",
              "    <tr>\n",
              "      <th>0</th>\n",
              "      <td>Downtown Toronto</td>\n",
              "      <td>South of Bloor</td>\n",
              "      <td>4af9a379f964a520c91222e3</td>\n",
              "      <td>Bombay Palace</td>\n",
              "      <td>14</td>\n",
              "      <td>7.4</td>\n",
              "      <td>13</td>\n",
              "      <td>M5A</td>\n",
              "    </tr>\n",
              "    <tr>\n",
              "      <th>1</th>\n",
              "      <td>Downtown Toronto</td>\n",
              "      <td>South of Bloor</td>\n",
              "      <td>52af6dc5498e33995b0bbf03</td>\n",
              "      <td>Sultan Of Samosas</td>\n",
              "      <td>9</td>\n",
              "      <td>7.0</td>\n",
              "      <td>4</td>\n",
              "      <td>M5A</td>\n",
              "    </tr>\n",
              "    <tr>\n",
              "      <th>2</th>\n",
              "      <td>Downtown Toronto</td>\n",
              "      <td>South of Bloor</td>\n",
              "      <td>4bedf8b5e24d20a17b567214</td>\n",
              "      <td>Kothur Indian Cuisine</td>\n",
              "      <td>16</td>\n",
              "      <td>8.3</td>\n",
              "      <td>19</td>\n",
              "      <td>M7A</td>\n",
              "    </tr>\n",
              "    <tr>\n",
              "      <th>3</th>\n",
              "      <td>East Toronto</td>\n",
              "      <td>South of Bloor</td>\n",
              "      <td>4dcd7c6352b1f8915b7e7f7e</td>\n",
              "      <td>Delhi Bistro</td>\n",
              "      <td>6</td>\n",
              "      <td>7.1</td>\n",
              "      <td>3</td>\n",
              "      <td>M4E</td>\n",
              "    </tr>\n",
              "    <tr>\n",
              "      <th>4</th>\n",
              "      <td>Scarborough</td>\n",
              "      <td>South of Bloor</td>\n",
              "      <td>0</td>\n",
              "      <td>0</td>\n",
              "      <td>0</td>\n",
              "      <td>0.0</td>\n",
              "      <td>0</td>\n",
              "      <td>M1G</td>\n",
              "    </tr>\n",
              "  </tbody>\n",
              "</table>\n",
              "</div>"
            ],
            "text/plain": [
              "            Borough   Neighbourhood                        ID  \\\n",
              "0  Downtown Toronto  South of Bloor  4af9a379f964a520c91222e3   \n",
              "1  Downtown Toronto  South of Bloor  52af6dc5498e33995b0bbf03   \n",
              "2  Downtown Toronto  South of Bloor  4bedf8b5e24d20a17b567214   \n",
              "3      East Toronto  South of Bloor  4dcd7c6352b1f8915b7e7f7e   \n",
              "4       Scarborough  South of Bloor                         0   \n",
              "\n",
              "                    Name Likes  Rating Tips PostalCode  \n",
              "0          Bombay Palace    14     7.4   13        M5A  \n",
              "1      Sultan Of Samosas     9     7.0    4        M5A  \n",
              "2  Kothur Indian Cuisine    16     8.3   19        M7A  \n",
              "3           Delhi Bistro     6     7.1    3        M4E  \n",
              "4                      0     0     0.0    0        M1G  "
            ]
          },
          "metadata": {
            "tags": []
          },
          "execution_count": 33
        }
      ]
    },
    {
      "cell_type": "code",
      "metadata": {
        "id": "YmMP36D-wmik",
        "colab_type": "code",
        "colab": {
          "base_uri": "https://localhost:8080/",
          "height": 34
        },
        "outputId": "85624335-274a-4532-9a0f-cf5a0a06ca5d"
      },
      "source": [
        "indian_rest_stats_ny.shape"
      ],
      "execution_count": 34,
      "outputs": [
        {
          "output_type": "execute_result",
          "data": {
            "text/plain": [
              "(50, 8)"
            ]
          },
          "metadata": {
            "tags": []
          },
          "execution_count": 34
        }
      ]
    },
    {
      "cell_type": "code",
      "metadata": {
        "id": "iHI312SOwqlp",
        "colab_type": "code",
        "colab": {
          "base_uri": "https://localhost:8080/",
          "height": 34
        },
        "outputId": "9310e2fd-39e1-4438-ea36-6de975ff2336"
      },
      "source": [
        "indian_rest_ny.shape"
      ],
      "execution_count": 35,
      "outputs": [
        {
          "output_type": "execute_result",
          "data": {
            "text/plain": [
              "(74, 5)"
            ]
          },
          "metadata": {
            "tags": []
          },
          "execution_count": 35
        }
      ]
    },
    {
      "cell_type": "markdown",
      "metadata": {
        "id": "jqzLVE5wDkOX",
        "colab_type": "text"
      },
      "source": [
        "So we got data for all resturants Now lets save this data to a csv sheet"
      ]
    },
    {
      "cell_type": "code",
      "metadata": {
        "id": "V_Watu-LwyXp",
        "colab_type": "code",
        "colab": {}
      },
      "source": [
        "indian_rest_stats_ny.to_csv('indian_rest_stats_ny.csv', index=False)"
      ],
      "execution_count": 0,
      "outputs": []
    },
    {
      "cell_type": "code",
      "metadata": {
        "id": "n8x7Awouw1K5",
        "colab_type": "code",
        "colab": {}
      },
      "source": [
        "indian_rest_stats_ny_csv=pd.read_csv('indian_rest_stats_ny.csv')"
      ],
      "execution_count": 0,
      "outputs": []
    },
    {
      "cell_type": "code",
      "metadata": {
        "id": "l58lZ8kkw3aq",
        "colab_type": "code",
        "colab": {
          "base_uri": "https://localhost:8080/",
          "height": 34
        },
        "outputId": "d4d2d79f-f7f2-4189-9bf6-53048d2bfb75"
      },
      "source": [
        "indian_rest_stats_ny_csv.shape"
      ],
      "execution_count": 38,
      "outputs": [
        {
          "output_type": "execute_result",
          "data": {
            "text/plain": [
              "(50, 8)"
            ]
          },
          "metadata": {
            "tags": []
          },
          "execution_count": 38
        }
      ]
    },
    {
      "cell_type": "code",
      "metadata": {
        "id": "tn6J-eaQw5ui",
        "colab_type": "code",
        "colab": {
          "base_uri": "https://localhost:8080/",
          "height": 204
        },
        "outputId": "83ca9cf8-2f05-44f8-9ef8-28474d9ad4c1"
      },
      "source": [
        "indian_rest_stats_ny_csv.head()"
      ],
      "execution_count": 81,
      "outputs": [
        {
          "output_type": "execute_result",
          "data": {
            "text/html": [
              "<div>\n",
              "<style scoped>\n",
              "    .dataframe tbody tr th:only-of-type {\n",
              "        vertical-align: middle;\n",
              "    }\n",
              "\n",
              "    .dataframe tbody tr th {\n",
              "        vertical-align: top;\n",
              "    }\n",
              "\n",
              "    .dataframe thead th {\n",
              "        text-align: right;\n",
              "    }\n",
              "</style>\n",
              "<table border=\"1\" class=\"dataframe\">\n",
              "  <thead>\n",
              "    <tr style=\"text-align: right;\">\n",
              "      <th></th>\n",
              "      <th>Borough</th>\n",
              "      <th>Neighbourhood</th>\n",
              "      <th>ID</th>\n",
              "      <th>Name</th>\n",
              "      <th>Likes</th>\n",
              "      <th>Rating</th>\n",
              "      <th>Tips</th>\n",
              "      <th>PostalCode</th>\n",
              "    </tr>\n",
              "  </thead>\n",
              "  <tbody>\n",
              "    <tr>\n",
              "      <th>0</th>\n",
              "      <td>Downtown Toronto</td>\n",
              "      <td>South of Bloor</td>\n",
              "      <td>4af9a379f964a520c91222e3</td>\n",
              "      <td>Bombay Palace</td>\n",
              "      <td>14</td>\n",
              "      <td>7.4</td>\n",
              "      <td>13</td>\n",
              "      <td>M5A</td>\n",
              "    </tr>\n",
              "    <tr>\n",
              "      <th>1</th>\n",
              "      <td>Downtown Toronto</td>\n",
              "      <td>South of Bloor</td>\n",
              "      <td>52af6dc5498e33995b0bbf03</td>\n",
              "      <td>Sultan Of Samosas</td>\n",
              "      <td>9</td>\n",
              "      <td>7.0</td>\n",
              "      <td>4</td>\n",
              "      <td>M5A</td>\n",
              "    </tr>\n",
              "    <tr>\n",
              "      <th>2</th>\n",
              "      <td>Downtown Toronto</td>\n",
              "      <td>South of Bloor</td>\n",
              "      <td>4bedf8b5e24d20a17b567214</td>\n",
              "      <td>Kothur Indian Cuisine</td>\n",
              "      <td>16</td>\n",
              "      <td>8.3</td>\n",
              "      <td>19</td>\n",
              "      <td>M7A</td>\n",
              "    </tr>\n",
              "    <tr>\n",
              "      <th>3</th>\n",
              "      <td>East Toronto</td>\n",
              "      <td>South of Bloor</td>\n",
              "      <td>4dcd7c6352b1f8915b7e7f7e</td>\n",
              "      <td>Delhi Bistro</td>\n",
              "      <td>6</td>\n",
              "      <td>7.1</td>\n",
              "      <td>3</td>\n",
              "      <td>M4E</td>\n",
              "    </tr>\n",
              "    <tr>\n",
              "      <th>4</th>\n",
              "      <td>Scarborough</td>\n",
              "      <td>South of Bloor</td>\n",
              "      <td>0</td>\n",
              "      <td>0</td>\n",
              "      <td>0</td>\n",
              "      <td>0.0</td>\n",
              "      <td>0</td>\n",
              "      <td>M1G</td>\n",
              "    </tr>\n",
              "  </tbody>\n",
              "</table>\n",
              "</div>"
            ],
            "text/plain": [
              "            Borough   Neighbourhood                        ID  \\\n",
              "0  Downtown Toronto  South of Bloor  4af9a379f964a520c91222e3   \n",
              "1  Downtown Toronto  South of Bloor  52af6dc5498e33995b0bbf03   \n",
              "2  Downtown Toronto  South of Bloor  4bedf8b5e24d20a17b567214   \n",
              "3      East Toronto  South of Bloor  4dcd7c6352b1f8915b7e7f7e   \n",
              "4       Scarborough  South of Bloor                         0   \n",
              "\n",
              "                    Name  Likes  Rating  Tips PostalCode  \n",
              "0          Bombay Palace     14     7.4    13        M5A  \n",
              "1      Sultan Of Samosas      9     7.0     4        M5A  \n",
              "2  Kothur Indian Cuisine     16     8.3    19        M7A  \n",
              "3           Delhi Bistro      6     7.1     3        M4E  \n",
              "4                      0      0     0.0     0        M1G  "
            ]
          },
          "metadata": {
            "tags": []
          },
          "execution_count": 81
        }
      ]
    },
    {
      "cell_type": "code",
      "metadata": {
        "id": "aLTIQTZyw8cJ",
        "colab_type": "code",
        "colab": {
          "base_uri": "https://localhost:8080/",
          "height": 238
        },
        "outputId": "203c3f6c-80d1-4c64-c2c2-5ec071f062e0"
      },
      "source": [
        "indian_rest_stats_ny.info()"
      ],
      "execution_count": 82,
      "outputs": [
        {
          "output_type": "stream",
          "text": [
            "<class 'pandas.core.frame.DataFrame'>\n",
            "RangeIndex: 50 entries, 0 to 49\n",
            "Data columns (total 8 columns):\n",
            "Borough          50 non-null object\n",
            "Neighbourhood    50 non-null object\n",
            "ID               50 non-null object\n",
            "Name             50 non-null object\n",
            "Likes            50 non-null float64\n",
            "Rating           50 non-null float64\n",
            "Tips             50 non-null float64\n",
            "PostalCode       50 non-null object\n",
            "dtypes: float64(3), object(5)\n",
            "memory usage: 3.2+ KB\n"
          ],
          "name": "stdout"
        }
      ]
    },
    {
      "cell_type": "code",
      "metadata": {
        "id": "NDrM8s2VxDLW",
        "colab_type": "code",
        "colab": {}
      },
      "source": [
        "indian_rest_stats_ny['Likes']=indian_rest_stats_ny['Likes'].astype('float64')"
      ],
      "execution_count": 0,
      "outputs": []
    },
    {
      "cell_type": "code",
      "metadata": {
        "id": "EMnuSIbRxoSM",
        "colab_type": "code",
        "colab": {}
      },
      "source": [
        "indian_rest_stats_ny['Tips']=indian_rest_stats_ny['Tips'].astype('float64')"
      ],
      "execution_count": 0,
      "outputs": []
    },
    {
      "cell_type": "code",
      "metadata": {
        "id": "CpFnAUCNxrre",
        "colab_type": "code",
        "colab": {
          "base_uri": "https://localhost:8080/",
          "height": 170
        },
        "outputId": "34f698cb-9020-4d1e-eb26-680c429db7e3"
      },
      "source": [
        "indian_rest_stats_ny.iloc[indian_rest_stats_ny['Likes'].idxmax()]"
      ],
      "execution_count": 85,
      "outputs": [
        {
          "output_type": "execute_result",
          "data": {
            "text/plain": [
              "Borough                  Downtown Toronto\n",
              "Neighbourhood              South of Bloor\n",
              "ID               4adb969ef964a520332921e3\n",
              "Name               Banjara Indian Cuisine\n",
              "Likes                                 142\n",
              "Rating                                8.9\n",
              "Tips                                   75\n",
              "PostalCode                            M6G\n",
              "Name: 6, dtype: object"
            ]
          },
          "metadata": {
            "tags": []
          },
          "execution_count": 85
        }
      ]
    },
    {
      "cell_type": "code",
      "metadata": {
        "id": "9bwgWJlbxvTs",
        "colab_type": "code",
        "colab": {
          "base_uri": "https://localhost:8080/",
          "height": 170
        },
        "outputId": "9dc4ef71-0af1-48bc-9db0-5e2decccdbc2"
      },
      "source": [
        "indian_rest_stats_ny.iloc[indian_rest_stats_ny['Rating'].idxmax()]"
      ],
      "execution_count": 86,
      "outputs": [
        {
          "output_type": "execute_result",
          "data": {
            "text/plain": [
              "Borough                  Downtown Toronto\n",
              "Neighbourhood              South of Bloor\n",
              "ID               4adb969ef964a520332921e3\n",
              "Name               Banjara Indian Cuisine\n",
              "Likes                                 142\n",
              "Rating                                8.9\n",
              "Tips                                   75\n",
              "PostalCode                            M6G\n",
              "Name: 6, dtype: object"
            ]
          },
          "metadata": {
            "tags": []
          },
          "execution_count": 86
        }
      ]
    },
    {
      "cell_type": "code",
      "metadata": {
        "id": "zOdIorMyxzDs",
        "colab_type": "code",
        "colab": {
          "base_uri": "https://localhost:8080/",
          "height": 170
        },
        "outputId": "36a4a6a3-4004-4cdd-e3a3-0ac8d3a5def3"
      },
      "source": [
        "indian_rest_stats_ny.iloc[indian_rest_stats_ny['Tips'].idxmax()]"
      ],
      "execution_count": 87,
      "outputs": [
        {
          "output_type": "execute_result",
          "data": {
            "text/plain": [
              "Borough                  Downtown Toronto\n",
              "Neighbourhood              South of Bloor\n",
              "ID               4adb969ef964a520332921e3\n",
              "Name               Banjara Indian Cuisine\n",
              "Likes                                 142\n",
              "Rating                                8.9\n",
              "Tips                                   75\n",
              "PostalCode                            M6G\n",
              "Name: 6, dtype: object"
            ]
          },
          "metadata": {
            "tags": []
          },
          "execution_count": 87
        }
      ]
    },
    {
      "cell_type": "code",
      "metadata": {
        "id": "lRtEpC03x1-f",
        "colab_type": "code",
        "colab": {}
      },
      "source": [
        "ny_neighborhood_stats=indian_rest_stats_ny.groupby('Neighbourhood',as_index=False).mean()[['Neighbourhood','Rating']]\n",
        "ny_neighborhood_stats.columns=['Neighbourhood','Average Rating']"
      ],
      "execution_count": 0,
      "outputs": []
    },
    {
      "cell_type": "code",
      "metadata": {
        "id": "FDOdTllgx5ez",
        "colab_type": "code",
        "colab": {
          "base_uri": "https://localhost:8080/",
          "height": 80
        },
        "outputId": "ce29546d-6062-44a8-ccb1-f4bbb1b11573"
      },
      "source": [
        "ny_neighborhood_stats.sort_values(['Average Rating'],ascending=False).head(10)"
      ],
      "execution_count": 89,
      "outputs": [
        {
          "output_type": "execute_result",
          "data": {
            "text/html": [
              "<div>\n",
              "<style scoped>\n",
              "    .dataframe tbody tr th:only-of-type {\n",
              "        vertical-align: middle;\n",
              "    }\n",
              "\n",
              "    .dataframe tbody tr th {\n",
              "        vertical-align: top;\n",
              "    }\n",
              "\n",
              "    .dataframe thead th {\n",
              "        text-align: right;\n",
              "    }\n",
              "</style>\n",
              "<table border=\"1\" class=\"dataframe\">\n",
              "  <thead>\n",
              "    <tr style=\"text-align: right;\">\n",
              "      <th></th>\n",
              "      <th>Neighbourhood</th>\n",
              "      <th>Average Rating</th>\n",
              "    </tr>\n",
              "  </thead>\n",
              "  <tbody>\n",
              "    <tr>\n",
              "      <th>0</th>\n",
              "      <td>South of Bloor</td>\n",
              "      <td>6.594</td>\n",
              "    </tr>\n",
              "  </tbody>\n",
              "</table>\n",
              "</div>"
            ],
            "text/plain": [
              "    Neighbourhood  Average Rating\n",
              "0  South of Bloor           6.594"
            ]
          },
          "metadata": {
            "tags": []
          },
          "execution_count": 89
        }
      ]
    },
    {
      "cell_type": "code",
      "metadata": {
        "id": "X3AqKIFTx-F2",
        "colab_type": "code",
        "colab": {}
      },
      "source": [
        "ny_borough_stats=indian_rest_stats_ny.groupby('Borough',as_index=False).mean()[['Borough','Rating']]\n",
        "ny_borough_stats.columns=['Borough','Average Rating']"
      ],
      "execution_count": 0,
      "outputs": []
    },
    {
      "cell_type": "code",
      "metadata": {
        "id": "MGOfJeu8yAgz",
        "colab_type": "code",
        "colab": {
          "base_uri": "https://localhost:8080/",
          "height": 204
        },
        "outputId": "0427ec1c-43eb-4f62-8e36-a8cdc6a8a322"
      },
      "source": [
        "\n",
        "ny_borough_stats.sort_values(['Average Rating'],ascending=False).head()"
      ],
      "execution_count": 91,
      "outputs": [
        {
          "output_type": "execute_result",
          "data": {
            "text/html": [
              "<div>\n",
              "<style scoped>\n",
              "    .dataframe tbody tr th:only-of-type {\n",
              "        vertical-align: middle;\n",
              "    }\n",
              "\n",
              "    .dataframe tbody tr th {\n",
              "        vertical-align: top;\n",
              "    }\n",
              "\n",
              "    .dataframe thead th {\n",
              "        text-align: right;\n",
              "    }\n",
              "</style>\n",
              "<table border=\"1\" class=\"dataframe\">\n",
              "  <thead>\n",
              "    <tr style=\"text-align: right;\">\n",
              "      <th></th>\n",
              "      <th>Borough</th>\n",
              "      <th>Average Rating</th>\n",
              "    </tr>\n",
              "  </thead>\n",
              "  <tbody>\n",
              "    <tr>\n",
              "      <th>6</th>\n",
              "      <td>West Toronto</td>\n",
              "      <td>8.025</td>\n",
              "    </tr>\n",
              "    <tr>\n",
              "      <th>1</th>\n",
              "      <td>Downtown Toronto</td>\n",
              "      <td>7.960</td>\n",
              "    </tr>\n",
              "    <tr>\n",
              "      <th>0</th>\n",
              "      <td>Central Toronto</td>\n",
              "      <td>6.900</td>\n",
              "    </tr>\n",
              "    <tr>\n",
              "      <th>4</th>\n",
              "      <td>North York</td>\n",
              "      <td>6.600</td>\n",
              "    </tr>\n",
              "    <tr>\n",
              "      <th>5</th>\n",
              "      <td>Scarborough</td>\n",
              "      <td>6.350</td>\n",
              "    </tr>\n",
              "  </tbody>\n",
              "</table>\n",
              "</div>"
            ],
            "text/plain": [
              "            Borough  Average Rating\n",
              "6      West Toronto           8.025\n",
              "1  Downtown Toronto           7.960\n",
              "0   Central Toronto           6.900\n",
              "4        North York           6.600\n",
              "5       Scarborough           6.350"
            ]
          },
          "metadata": {
            "tags": []
          },
          "execution_count": 91
        }
      ]
    },
    {
      "cell_type": "markdown",
      "metadata": {
        "id": "OkSGxoabDv8l",
        "colab_type": "text"
      },
      "source": [
        "average rating of Indian Resturants for each Borough"
      ]
    },
    {
      "cell_type": "code",
      "metadata": {
        "id": "CNPZ5LVLyDce",
        "colab_type": "code",
        "colab": {
          "base_uri": "https://localhost:8080/",
          "height": 604
        },
        "outputId": "0289cac7-cbc1-43e8-bfe0-ecae9697e107"
      },
      "source": [
        "plt.figure(figsize=(9,5), dpi = 100)\n",
        "# title\n",
        "plt.title('Average rating of Indian Resturants for each Borough')\n",
        "#On x-axis\n",
        "plt.xlabel('Borough', fontsize = 15)\n",
        "#On y-axis\n",
        "plt.ylabel('Average Rating', fontsize=15)\n",
        "#giving a bar plot\n",
        "indian_rest_stats_ny.groupby('Borough').mean()['Rating'].plot(kind='bar')\n",
        "#legend\n",
        "plt.legend()\n",
        "#displays the plot\n",
        "plt.show()"
      ],
      "execution_count": 92,
      "outputs": [
        {
          "output_type": "display_data",
          "data": {
            "image/png": "[encoded data removed]",
            "text/plain": [
              "<Figure size 900x500 with 1 Axes>"
            ]
          },
          "metadata": {
            "tags": []
          }
        }
      ]
    },
    {
      "cell_type": "code",
      "metadata": {
        "id": "lTywxBIJyHsM",
        "colab_type": "code",
        "colab": {}
      },
      "source": [
        "ny_neighborhood_stats=ny_neighborhood_stats[ny_neighborhood_stats['Average Rating']>=6.0]"
      ],
      "execution_count": 0,
      "outputs": []
    },
    {
      "cell_type": "code",
      "metadata": {
        "id": "W8k9GaPAyLfz",
        "colab_type": "code",
        "colab": {
          "base_uri": "https://localhost:8080/",
          "height": 80
        },
        "outputId": "79faf845-7c37-45e2-b0de-d22bd3e52ed2"
      },
      "source": [
        "ny_neighborhood_stats"
      ],
      "execution_count": 94,
      "outputs": [
        {
          "output_type": "execute_result",
          "data": {
            "text/html": [
              "<div>\n",
              "<style scoped>\n",
              "    .dataframe tbody tr th:only-of-type {\n",
              "        vertical-align: middle;\n",
              "    }\n",
              "\n",
              "    .dataframe tbody tr th {\n",
              "        vertical-align: top;\n",
              "    }\n",
              "\n",
              "    .dataframe thead th {\n",
              "        text-align: right;\n",
              "    }\n",
              "</style>\n",
              "<table border=\"1\" class=\"dataframe\">\n",
              "  <thead>\n",
              "    <tr style=\"text-align: right;\">\n",
              "      <th></th>\n",
              "      <th>Neighbourhood</th>\n",
              "      <th>Average Rating</th>\n",
              "    </tr>\n",
              "  </thead>\n",
              "  <tbody>\n",
              "    <tr>\n",
              "      <th>0</th>\n",
              "      <td>South of Bloor</td>\n",
              "      <td>6.594</td>\n",
              "    </tr>\n",
              "  </tbody>\n",
              "</table>\n",
              "</div>"
            ],
            "text/plain": [
              "    Neighbourhood  Average Rating\n",
              "0  South of Bloor           6.594"
            ]
          },
          "metadata": {
            "tags": []
          },
          "execution_count": 94
        }
      ]
    },
    {
      "cell_type": "code",
      "metadata": {
        "id": "EOG9L4lKyY27",
        "colab_type": "code",
        "colab": {}
      },
      "source": [
        "ny_neighborhood_stats=pd.merge(ny_neighborhood_stats,df2, on='Neighbourhood')"
      ],
      "execution_count": 0,
      "outputs": []
    },
    {
      "cell_type": "markdown",
      "metadata": {
        "id": "_2WzTHG1Emn5",
        "colab_type": "text"
      },
      "source": [
        "\n",
        "Now we will show this data on a map"
      ]
    },
    {
      "cell_type": "code",
      "metadata": {
        "id": "AeC7r7cWyd-4",
        "colab_type": "code",
        "colab": {}
      },
      "source": [
        "ny_map = folium.Map(location=geo_location('Toronto'), zoom_start=12)"
      ],
      "execution_count": 0,
      "outputs": []
    },
    {
      "cell_type": "code",
      "metadata": {
        "id": "mrDM2L4iyjb0",
        "colab_type": "code",
        "colab": {}
      },
      "source": [
        "incidents = folium.map.FeatureGroup()\n",
        "\n",
        "# loop through the 100 crimes and add each to the incidents feature group\n",
        "for lat, lng, in ny_neighborhood_stats[['Latitude','Longitude']].values:\n",
        "    incidents.add_child(\n",
        "        folium.CircleMarker(\n",
        "            [lat, lng],\n",
        "            radius=10, # define how big you want the circle markers to be\n",
        "            color='yellow',\n",
        "            fill=True,\n",
        "            fill_color='blue',\n",
        "            fill_opacity=0.6\n",
        "        )\n",
        "    )"
      ],
      "execution_count": 0,
      "outputs": []
    },
    {
      "cell_type": "code",
      "metadata": {
        "id": "4SuuXkXlym1b",
        "colab_type": "code",
        "colab": {}
      },
      "source": [
        "ny_neighborhood_stats['Label']=ny_neighborhood_stats['Neighbourhood']+', '+ny_neighborhood_stats['Borough']+'('+ny_neighborhood_stats['Average Rating'].map(str)+')'"
      ],
      "execution_count": 0,
      "outputs": []
    },
    {
      "cell_type": "code",
      "metadata": {
        "id": "54woHUOky8hf",
        "colab_type": "code",
        "colab": {
          "base_uri": "https://localhost:8080/",
          "height": 723
        },
        "outputId": "8edbdc77-f119-4eee-f691-e2921ebf36d5"
      },
      "source": [
        "for lat, lng, label in ny_neighborhood_stats[['Latitude','Longitude','Label']].values:\n",
        "    folium.Marker([lat, lng], popup=label).add_to(ny_map)        \n",
        "# add incidents to map\n",
        "ny_map.add_child(incidents)"
      ],
      "execution_count": 99,
      "outputs": [
        {
          "output_type": "execute_result",
          "data": {
            "text/html": [
              "<div style=\"width:100%;\"><div style=\"position:relative;width:100%;height:0;padding-bottom:60%;\"><iframe src=\"data:text/html;charset=utf-8;base64,PCFET0NUWVBFIGh0bWw+CjxoZWFkPiAgICAKICAgIDxtZXRhIGh0dHAtZXF1aXY9ImNvbnRlbnQtdHlwZSIgY29udGVudD0idGV4dC9odG1sOyBjaGFyc2V0PVVURi04IiAvPgogICAgPHNjcmlwdD5MX1BSRUZFUl9DQU5WQVM9ZmFsc2U7IExfTk9fVE9VQ0g9ZmFsc2U7IExfRElTQUJMRV8zRD1mYWxzZTs8L3NjcmlwdD4KICAgIDxzY3JpcHQgc3JjPSJodHRwczovL2Nkbi5qc2RlbGl2ci5uZXQvbnBtL2xlYWZsZXRAMS40LjAvZGlzdC9sZWFmbGV0LmpzIj48L3NjcmlwdD4KICAgIDxzY3JpcHQgc3JjPSJodHRwczovL2NvZGUuanF1ZXJ5LmNvbS9qcXVlcnktMS4xMi40Lm1pbi5qcyI+PC9zY3JpcHQ+CiAgICA8c2NyaXB0IHNyYz0iaHR0cHM6Ly9tYXhjZG4uYm9vdHN0cmFwY2RuLmNvbS9ib290c3RyYXAvMy4yLjAvanMvYm9vdHN0cmFwLm1pbi5qcyI+PC9zY3JpcHQ+CiAgICA8c2NyaXB0IHNyYz0iaHR0cHM6Ly9jZG5qcy5jbG91ZGZsYXJlLmNvbS9hamF4L2xpYnMvTGVhZmxldC5hd2Vzb21lLW1hcmtlcnMvMi4wLjIvbGVhZmxldC5hd2Vzb21lLW1hcmtlcnMuanMiPjwvc2NyaXB0PgogICAgPGxpbmsgcmVsPSJzdHlsZXNoZWV0IiBocmVmPSJodHRwczovL2Nkbi5qc2RlbGl2ci5uZXQvbnBtL2xlYWZsZXRAMS40LjAvZGlzdC9sZWFmbGV0LmNzcyIvPgogICAgPGxpbmsgcmVsPSJzdHlsZXNoZWV0IiBocmVmPSJodHRwczovL21heGNkbi5ib290c3RyYXBjZG4uY29tL2Jvb3RzdHJhcC8zLjIuMC9jc3MvYm9vdHN0cmFwLm1pbi5jc3MiLz4KICAgIDxsaW5rIHJlbD0ic3R5bGVzaGVldCIgaHJlZj0iaHR0cHM6Ly9tYXhjZG4uYm9vdHN0cmFwY2RuLmNvbS9ib290c3RyYXAvMy4yLjAvY3NzL2Jvb3RzdHJhcC10aGVtZS5taW4uY3NzIi8+CiAgICA8bGluayByZWw9InN0eWxlc2hlZXQiIGhyZWY9Imh0dHBzOi8vbWF4Y2RuLmJvb3RzdHJhcGNkbi5jb20vZm9udC1hd2Vzb21lLzQuNi4zL2Nzcy9mb250LWF3ZXNvbWUubWluLmNzcyIvPgogICAgPGxpbmsgcmVsPSJzdHlsZXNoZWV0IiBocmVmPSJodHRwczovL2NkbmpzLmNsb3VkZmxhcmUuY29tL2FqYXgvbGlicy9MZWFmbGV0LmF3ZXNvbWUtbWFya2Vycy8yLjAuMi9sZWFmbGV0LmF3ZXNvbWUtbWFya2Vycy5jc3MiLz4KICAgIDxsaW5rIHJlbD0ic3R5bGVzaGVldCIgaHJlZj0iaHR0cHM6Ly9yYXdjZG4uZ2l0aGFjay5jb20vcHl0aG9uLXZpc3VhbGl6YXRpb24vZm9saXVtL21hc3Rlci9mb2xpdW0vdGVtcGxhdGVzL2xlYWZsZXQuYXdlc29tZS5yb3RhdGUuY3NzIi8+CiAgICA8c3R5bGU+aHRtbCwgYm9keSB7d2lkdGg6IDEwMCU7aGVpZ2h0OiAxMDAlO21hcmdpbjogMDtwYWRkaW5nOiAwO308L3N0eWxlPgogICAgPHN0eWxlPiNtYXAge3Bvc2l0aW9uOmFic29sdXRlO3RvcDowO2JvdHRvbTowO3JpZ2h0OjA7bGVmdDowO308L3N0eWxlPgogICAgCiAgICA8bWV0YSBuYW1lPSJ2aWV3cG9ydCIgY29udGVudD0id2lkdGg9ZGV2aWNlLXdpZHRoLAogICAgICAgIGluaXRpYWwtc2NhbGU9MS4wLCBtYXhpbXVtLXNjYWxlPTEuMCwgdXNlci1zY2FsYWJsZT1ubyIgLz4KICAgIDxzdHlsZT4jbWFwXzIzZDFmNmIyMDFiYjRkZTA5MDk2YmI3NDYxMjk0ZDY4IHsKICAgICAgICBwb3NpdGlvbjogcmVsYXRpdmU7CiAgICAgICAgd2lkdGg6IDEwMC4wJTsKICAgICAgICBoZWlnaHQ6IDEwMC4wJTsKICAgICAgICBsZWZ0OiAwLjAlOwogICAgICAgIHRvcDogMC4wJTsKICAgICAgICB9CiAgICA8L3N0eWxlPgo8L2hlYWQ+Cjxib2R5PiAgICAKICAgIAogICAgPGRpdiBjbGFzcz0iZm9saXVtLW1hcCIgaWQ9Im1hcF8yM2QxZjZiMjAxYmI0ZGUwOTA5NmJiNzQ2MTI5NGQ2OCIgPjwvZGl2Pgo8L2JvZHk+CjxzY3JpcHQ+ICAgIAogICAgCiAgICAKICAgICAgICB2YXIgYm91bmRzID0gbnVsbDsKICAgIAoKICAgIHZhciBtYXBfMjNkMWY2YjIwMWJiNGRlMDkwOTZiYjc0NjEyOTRkNjggPSBMLm1hcCgKICAgICAgICAnbWFwXzIzZDFmNmIyMDFiYjRkZTA5MDk2YmI3NDYxMjk0ZDY4JywgewogICAgICAgIGNlbnRlcjogWzQzLjY1Mzk2MywgLTc5LjM4NzIwN10sCiAgICAgICAgem9vbTogMTIsCiAgICAgICAgbWF4Qm91bmRzOiBib3VuZHMsCiAgICAgICAgbGF5ZXJzOiBbXSwKICAgICAgICB3b3JsZENvcHlKdW1wOiBmYWxzZSwKICAgICAgICBjcnM6IEwuQ1JTLkVQU0czODU3LAogICAgICAgIHpvb21Db250cm9sOiB0cnVlLAogICAgICAgIH0pOwoKCiAgICAKICAgIHZhciB0aWxlX2xheWVyXzEyNjNlMTA0MjQ2ZjQyOTJiOGRjNjY2ZDc5ZDdlNzQxID0gTC50aWxlTGF5ZXIoCiAgICAgICAgJ2h0dHBzOi8ve3N9LnRpbGUub3BlbnN0cmVldG1hcC5vcmcve3p9L3t4fS97eX0ucG5nJywKICAgICAgICB7CiAgICAgICAgImF0dHJpYnV0aW9uIjogbnVsbCwKICAgICAgICAiZGV0ZWN0UmV0aW5hIjogZmFsc2UsCiAgICAgICAgIm1heE5hdGl2ZVpvb20iOiAxOCwKICAgICAgICAibWF4Wm9vbSI6IDE4LAogICAgICAgICJtaW5ab29tIjogMCwKICAgICAgICAibm9XcmFwIjogZmFsc2UsCiAgICAgICAgIm9wYWNpdHkiOiAxLAogICAgICAgICJzdWJkb21haW5zIjogImFiYyIsCiAgICAgICAgInRtcyI6IGZhbHNlCn0pLmFkZFRvKG1hcF8yM2QxZjZiMjAxYmI0ZGUwOTA5NmJiNzQ2MTI5NGQ2OCk7CiAgICAKICAgICAgICB2YXIgbWFya2VyX2IzMWJjOGMyZDAzZjRjMWY4NDQ2MWNmMjk5MDcxMTQwID0gTC5tYXJrZXIoCiAgICAgICAgICAgIFs0My42Mjg4NDA4LCAtNzkuNTIwOTk5NDAwMDAwMDFdLAogICAgICAgICAgICB7CiAgICAgICAgICAgICAgICBpY29uOiBuZXcgTC5JY29uLkRlZmF1bHQoKSwKICAgICAgICAgICAgICAgIH0KICAgICAgICAgICAgKS5hZGRUbyhtYXBfMjNkMWY2YjIwMWJiNGRlMDkwOTZiYjc0NjEyOTRkNjgpOwogICAgICAgIAogICAgCiAgICAgICAgICAgIHZhciBwb3B1cF83OTgyZGVlMmUyZWY0NmVlODdiMjk2ZDkwZDExMWM5OCA9IEwucG9wdXAoe21heFdpZHRoOiAnMTAwJScKICAgICAgICAgICAgCiAgICAgICAgICAgIH0pOwoKICAgICAgICAgICAgCiAgICAgICAgICAgICAgICB2YXIgaHRtbF8xMmVmNWNkMzkzZDQ0MmNhOGU0ODVhMTQyMTU3NzJiMyA9ICQoYDxkaXYgaWQ9Imh0bWxfMTJlZjVjZDM5M2Q0NDJjYThlNDg1YTE0MjE1NzcyYjMiIHN0eWxlPSJ3aWR0aDogMTAwLjAlOyBoZWlnaHQ6IDEwMC4wJTsiPlNvdXRoIG9mIEJsb29yLCBFdG9iaWNva2UoNi41OTM5OTk5OTk5OTk5OTgpPC9kaXY+YClbMF07CiAgICAgICAgICAgICAgICBwb3B1cF83OTgyZGVlMmUyZWY0NmVlODdiMjk2ZDkwZDExMWM5OC5zZXRDb250ZW50KGh0bWxfMTJlZjVjZDM5M2Q0NDJjYThlNDg1YTE0MjE1NzcyYjMpOwogICAgICAgICAgICAKCiAgICAgICAgICAgIG1hcmtlcl9iMzFiYzhjMmQwM2Y0YzFmODQ0NjFjZjI5OTA3MTE0MC5iaW5kUG9wdXAocG9wdXBfNzk4MmRlZTJlMmVmNDZlZTg3YjI5NmQ5MGQxMTFjOTgpCiAgICAgICAgICAgIDsKCiAgICAgICAgICAgIAogICAgICAgIAogICAgCiAgICAgICAgICAgIHZhciBmZWF0dXJlX2dyb3VwXzg1ZTFmNDlmZjVmYzRmZDNiZTI2YTMwYjU3OGQ2ZjE0ID0gTC5mZWF0dXJlR3JvdXAoCiAgICAgICAgICAgICAgICApLmFkZFRvKG1hcF8yM2QxZjZiMjAxYmI0ZGUwOTA5NmJiNzQ2MTI5NGQ2OCk7CiAgICAgICAgCiAgICAKICAgICAgICAgICAgdmFyIGNpcmNsZV9tYXJrZXJfMWU2NjQ3ODBmYzNlNDE3YmI2ODg0N2QyZjZkMmU2ZjAgPSBMLmNpcmNsZU1hcmtlcigKICAgICAgICAgICAgICAgIFs0My42Mjg4NDA4LCAtNzkuNTIwOTk5NDAwMDAwMDFdLAogICAgICAgICAgICAgICAgewogICJidWJibGluZ01vdXNlRXZlbnRzIjogdHJ1ZSwKICAiY29sb3IiOiAieWVsbG93IiwKICAiZGFzaEFycmF5IjogbnVsbCwKICAiZGFzaE9mZnNldCI6IG51bGwsCiAgImZpbGwiOiB0cnVlLAogICJmaWxsQ29sb3IiOiAiYmx1ZSIsCiAgImZpbGxPcGFjaXR5IjogMC42LAogICJmaWxsUnVsZSI6ICJldmVub2RkIiwKICAibGluZUNhcCI6ICJyb3VuZCIsCiAgImxpbmVKb2luIjogInJvdW5kIiwKICAib3BhY2l0eSI6IDEuMCwKICAicmFkaXVzIjogMTAsCiAgInN0cm9rZSI6IHRydWUsCiAgIndlaWdodCI6IDMKfQogICAgICAgICAgICAgICAgKQogICAgICAgICAgICAgICAgLmFkZFRvKGZlYXR1cmVfZ3JvdXBfODVlMWY0OWZmNWZjNGZkM2JlMjZhMzBiNTc4ZDZmMTQpOwogICAgICAgICAgICAKPC9zY3JpcHQ+\" style=\"position:absolute;width:100%;height:100%;left:0;top:0;border:none !important;\" allowfullscreen webkitallowfullscreen mozallowfullscreen></iframe></div></div>"
            ],
            "text/plain": [
              "<folium.folium.Map at 0x7fede5fbffd0>"
            ]
          },
          "metadata": {
            "tags": []
          },
          "execution_count": 99
        }
      ]
    },
    {
      "cell_type": "markdown",
      "metadata": {
        "id": "K-xJGzAZEwla",
        "colab_type": "text"
      },
      "source": [
        "Now that we have visualized the Neighborhoods.\n",
        "Lets Visualize Boroughs based on average Rating"
      ]
    },
    {
      "cell_type": "code",
      "metadata": {
        "id": "9vXVjKwOzoPb",
        "colab_type": "code",
        "colab": {
          "base_uri": "https://localhost:8080/",
          "height": 34
        },
        "outputId": "34ab7d68-8a74-4c0e-f48f-fe927d7b3922"
      },
      "source": [
        "ny_map = folium.Map(location=geo_location('Toronto'), zoom_start=12)\n",
        "ny_geo = r'/content/toronto.geojson'\n",
        "\n",
        "folium.Choropleth(\n",
        "    geo_data=ny_geo,\n",
        "    data=ny_borough_stats,\n",
        "    columns=['Borough', 'Average Rating'],\n",
        "    key_on='feature.properties.boro_name',\n",
        "    fill_color='YlOrRd', \n",
        "    fill_opacity=0.7, \n",
        "    line_opacity=0.2,\n",
        "    legend_name='Average Rating'\n",
        ").add_to(ny_map)\n"
      ],
      "execution_count": 100,
      "outputs": [
        {
          "output_type": "execute_result",
          "data": {
            "text/plain": [
              "<folium.features.Choropleth at 0x7fede5fe9278>"
            ]
          },
          "metadata": {
            "tags": []
          },
          "execution_count": 100
        }
      ]
    },
    {
      "cell_type": "code",
      "metadata": {
        "id": "NJlUYVOV5VmC",
        "colab_type": "code",
        "colab": {
          "base_uri": "https://localhost:8080/",
          "height": 34
        },
        "outputId": "7535a589-db8b-429b-c2e3-abcd59a6ab46"
      },
      "source": [
        "type(ny_map)"
      ],
      "execution_count": 101,
      "outputs": [
        {
          "output_type": "execute_result",
          "data": {
            "text/plain": [
              "folium.folium.Map"
            ]
          },
          "metadata": {
            "tags": []
          },
          "execution_count": 101
        }
      ]
    },
    {
      "cell_type": "code",
      "metadata": {
        "id": "5viwlPt78EJ7",
        "colab_type": "code",
        "colab": {}
      },
      "source": [
        "# display map\n",
        "# as this is huge map data , we will save it to a file\n",
        "ny_map.save('borough_rating.html')"
      ],
      "execution_count": 0,
      "outputs": []
    }
  ]
}